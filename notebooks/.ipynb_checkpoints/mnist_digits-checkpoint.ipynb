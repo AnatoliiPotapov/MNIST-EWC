{
 "cells": [
  {
   "cell_type": "code",
   "execution_count": 1,
   "metadata": {
    "collapsed": true,
    "deletable": true,
    "editable": true
   },
   "outputs": [],
   "source": [
    "from __future__ import print_function"
   ]
  },
  {
   "cell_type": "code",
   "execution_count": 2,
   "metadata": {
    "collapsed": true,
    "deletable": true,
    "editable": true
   },
   "outputs": [],
   "source": [
    "import numpy as np\n",
    "import tensorflow as tf\n",
    "import sys"
   ]
  },
  {
   "cell_type": "code",
   "execution_count": 3,
   "metadata": {
    "collapsed": false,
    "deletable": true,
    "editable": true
   },
   "outputs": [],
   "source": [
    "sys.path.append('../')\n",
    "from src import helpers as h\n",
    "from src import digit_batches as d"
   ]
  },
  {
   "cell_type": "code",
   "execution_count": 4,
   "metadata": {
    "collapsed": true,
    "deletable": true,
    "editable": true
   },
   "outputs": [],
   "source": [
    "digits = d.Digits_batches([[0,1],[2,3],[4,5]], batch_size=128)"
   ]
  },
  {
   "cell_type": "code",
   "execution_count": 5,
   "metadata": {
    "collapsed": false,
    "deletable": true,
    "editable": true
   },
   "outputs": [
    {
     "data": {
      "image/png": "[encoded data removed]",
      "text/plain": [
       "<matplotlib.figure.Figure at 0x7f04a295ec90>"
      ]
     },
     "metadata": {},
     "output_type": "display_data"
    }
   ],
   "source": [
    "h.plot(digits.batches[0].next()[0])"
   ]
  },
  {
   "cell_type": "code",
   "execution_count": 6,
   "metadata": {
    "collapsed": false,
    "deletable": true,
    "editable": true
   },
   "outputs": [],
   "source": [
    "from models import mlp_tensorlayer\n",
    "batch_size = 128"
   ]
  },
  {
   "cell_type": "code",
   "execution_count": 7,
   "metadata": {
    "collapsed": false,
    "deletable": true,
    "editable": true
   },
   "outputs": [],
   "source": [
    "Model = mlp_tensorlayer.Model"
   ]
  },
  {
   "cell_type": "code",
   "execution_count": 8,
   "metadata": {
    "collapsed": true,
    "deletable": true,
    "editable": true
   },
   "outputs": [],
   "source": [
    "def restore(sess):\n",
    "    ckpt = tf.train.get_checkpoint_state(os.path.dirname('checkpoint_directory/{}'.format(model_name)))\n",
    "    if ckpt and ckpt.model_checkpoint_path:\n",
    "        saver.restore(sess, ckpt.model_checkpoint_path)"
   ]
  },
  {
   "cell_type": "code",
   "execution_count": 9,
   "metadata": {
    "collapsed": true,
    "deletable": true,
    "editable": true
   },
   "outputs": [],
   "source": [
    "max_steps = 3001\n",
    "period_print = 500\n",
    "period_stat = 100\n",
    "\n",
    "def train(model, batches_list, data = None, mask = None, EWC = False, stat = False):\n",
    "    \n",
    "    acc_track = [[] for i in range(len(data))]\n",
    "    \n",
    "    p = h.Progress(max_steps*len(batches_list))\n",
    "    pr = 0\n",
    "    \n",
    "    for ind, batches in enumerate(batches_list):\n",
    "        #print(\"Training on batches{0}\\n\".format(ind+1))\n",
    "        try:\n",
    "            for step in range(max_steps):\n",
    "                \n",
    "                pr = pr+1\n",
    "                p.update(pr)\n",
    "                m = mask[ind]\n",
    "                \n",
    "                X, y = batches.next()\n",
    "                train_d = {model.x : X, model.y_ : y, model.s: m}\n",
    "\n",
    "                if EWC ==  False:\n",
    "                    _ = sess.run(model.train_op, feed_dict=train_d)\n",
    "                if EWC ==  True:\n",
    "                    _ = sess.run(model.train_op_ewc, feed_dict=train_d)\n",
    "\n",
    "                if step % period_stat == 0:\n",
    "                    for i, d in enumerate(data):\n",
    "                        acc_track[i].append(test_acc(model, d[0], d[1], mask[i]))\n",
    "\n",
    "\n",
    "                if (step % period_print == 0) and (stat == True):\n",
    "                    test_d = {model.tf_x : X, model.tf_y : y}\n",
    "                    l,ll, train_pred = sess.run([model.cost, model.ewc_cost, model.pred], feed_dict=test_d)\n",
    "                    print(\n",
    "                        \"Step {0}: \\n loss: {1} {2} \\n minibatch acc: {3}% \\n\".format(\n",
    "                            step,\n",
    "                            l,\n",
    "                            ll,\n",
    "                            accuracy(train_pred, y, m)\n",
    "                        )\n",
    "                    )\n",
    "            set_constraint(model, X, y, m)\n",
    "\n",
    "        except KeyboardInterrupt:\n",
    "            set_constraint(model, X, y, m)\n",
    "            print('training interrupted')\n",
    "\n",
    "    return acc_track"
   ]
  },
  {
   "cell_type": "code",
   "execution_count": null,
   "metadata": {
    "collapsed": false,
    "deletable": true,
    "editable": true
   },
   "outputs": [],
   "source": []
  },
  {
   "cell_type": "code",
   "execution_count": 10,
   "metadata": {
    "collapsed": true,
    "deletable": true,
    "editable": true
   },
   "outputs": [],
   "source": [
    "def test_acc(model, X, y, s):\n",
    "    test_d = {model.x : X, model.y_ : y, model.s:s}\n",
    "    accuracy = sess.run([model.acc], feed_dict=test_d)\n",
    "    return accuracy           "
   ]
  },
  {
   "cell_type": "code",
   "execution_count": 11,
   "metadata": {
    "collapsed": true,
    "deletable": true,
    "editable": true
   },
   "outputs": [],
   "source": [
    "def get_gradient(model, batches):\n",
    "    X, y = batches.next()\n",
    "    test_d = {model.x : X, model.y_ : y}\n",
    "    gradient = sess.run([model.grads], feed_dict=test_d)\n",
    "    return gradient"
   ]
  },
  {
   "cell_type": "code",
   "execution_count": 12,
   "metadata": {
    "collapsed": true,
    "deletable": true,
    "editable": true
   },
   "outputs": [],
   "source": [
    "# Привязать к данным\n",
    "def set_constraint(model, X, y, s):\n",
    "    # Вычисляем Градиент по весам\n",
    "    test_d = {model.x : X, model.y_ : y, model.s : s}\n",
    "    g = sess.run([model.grads], feed_dict=test_d)\n",
    "\n",
    "    for i, m in enumerate(model.network.all_params):\n",
    "        name = m.name.split(\":\")[0]\n",
    "        grad, w = g[0][i]\n",
    "        \n",
    "        with sess.as_default():\n",
    "            model.f[name].assign(0.3 * np.square(grad) + 0.7 * model.f[name].eval()).eval()\n",
    "            model.w[name].assign(w).eval()"
   ]
  },
  {
   "cell_type": "code",
   "execution_count": 13,
   "metadata": {
    "collapsed": true,
    "deletable": true,
    "editable": true
   },
   "outputs": [],
   "source": [
    "def plot(acc_track, title):\n",
    "    %matplotlib inline\n",
    "    import matplotlib.pyplot as plt\n",
    "    plt.rc(\"font\", size=10)\n",
    "    fig = plt.figure()\n",
    "    fig.suptitle(title, fontsize=14)\n",
    "    axes = plt.gca()\n",
    "    axes.set_ylim([0,100])\n",
    "    l = len(acc_track[0])\n",
    "    for ind, acc in enumerate(acc_track):\n",
    "        plt.plot(range(l), np.multiply(acc_track[ind],100.0), label='Batches {0}'.format(ind))\n",
    "\n",
    "    plt.ylabel('accuracy, %')\n",
    "    plt.xlabel('number of training batches x100')\n",
    "    plt.legend(loc=4, borderaxespad=0.)\n",
    "    plt.show()"
   ]
  },
  {
   "cell_type": "code",
   "execution_count": 14,
   "metadata": {
    "collapsed": true,
    "deletable": true,
    "editable": true
   },
   "outputs": [],
   "source": [
    "mask = [\n",
    "    np.array([1.0,1.0,0.0,0.0,0.0,0.0,0.0,0.0,0.0,0.0]),\n",
    "    np.array([0.0,0.0,1.0,1.0,0.0,0.0,0.0,0.0,0.0,0.0]),\n",
    "    np.array([0.0,0.0,0.0,0.0,1.0,1.0,0.0,0.0,0.0,0.0]),\n",
    "    \n",
    "]"
   ]
  },
  {
   "cell_type": "code",
   "execution_count": null,
   "metadata": {
    "collapsed": false,
    "deletable": true,
    "editable": true
   },
   "outputs": [],
   "source": []
  },
  {
   "cell_type": "code",
   "execution_count": 15,
   "metadata": {
    "collapsed": false,
    "deletable": true,
    "editable": true
   },
   "outputs": [
    {
     "name": "stdout",
     "output_type": "stream",
     "text": [
      "  [TL] InputLayer  input_layer: (?, 784)\n",
      "  [TL] DenseLayer  relu1: 128 relu\n",
      "  [TL] DenseLayer  relu2: 128 relu\n",
      "  [TL] DenseLayer  output_layer: 10 identity\n",
      "(u'relu1/W', [784, 128])\n",
      "(u'relu1/b', [128])\n",
      "(u'relu2/W', [128, 128])\n",
      "(u'relu2/b', [128])\n",
      "(u'output_layer/W', [128, 10])\n",
      "(u'output_layer/b', [10])\n"
     ]
    }
   ],
   "source": [
    "model = Model([784,128,128,10],{'l1':0.0,'l2':0.0,'ewc':0.0}, activation = 'relu', biases=True, mask=True)\n",
    "sess = tf.Session(graph=model.graph)\n",
    "sess.run(model.init)\n",
    "data = []"
   ]
  },
  {
   "cell_type": "code",
   "execution_count": 16,
   "metadata": {
    "collapsed": false
   },
   "outputs": [
    {
     "data": {
      "text/plain": [
       "[<tf.Variable 'relu1/W:0' shape=(784, 128) dtype=float32_ref>,\n",
       " <tf.Variable 'relu1/b:0' shape=(128,) dtype=float32_ref>,\n",
       " <tf.Variable 'relu2/W:0' shape=(128, 128) dtype=float32_ref>,\n",
       " <tf.Variable 'relu2/b:0' shape=(128,) dtype=float32_ref>,\n",
       " <tf.Variable 'output_layer/W:0' shape=(128, 10) dtype=float32_ref>,\n",
       " <tf.Variable 'output_layer/b:0' shape=(10,) dtype=float32_ref>]"
      ]
     },
     "execution_count": 16,
     "metadata": {},
     "output_type": "execute_result"
    }
   ],
   "source": [
    "model.network.all_params"
   ]
  },
  {
   "cell_type": "code",
   "execution_count": 17,
   "metadata": {
    "collapsed": false,
    "deletable": true,
    "editable": true
   },
   "outputs": [
    {
     "ename": "KeyError",
     "evalue": "u'relu1'",
     "output_type": "error",
     "traceback": [
      "\u001b[0;31m\u001b[0m",
      "\u001b[0;31mKeyError\u001b[0mTraceback (most recent call last)",
      "\u001b[0;32m<ipython-input-17-46c97acdef52>\u001b[0m in \u001b[0;36m<module>\u001b[0;34m()\u001b[0m\n\u001b[0;32m----> 1\u001b[0;31m \u001b[0mdata\u001b[0m\u001b[0;34m.\u001b[0m\u001b[0mappend\u001b[0m\u001b[0;34m(\u001b[0m\u001b[0mtrain\u001b[0m\u001b[0;34m(\u001b[0m\u001b[0mmodel\u001b[0m\u001b[0;34m,\u001b[0m \u001b[0mdigits\u001b[0m\u001b[0;34m.\u001b[0m\u001b[0mbatches\u001b[0m\u001b[0;34m,\u001b[0m \u001b[0mdigits\u001b[0m\u001b[0;34m.\u001b[0m\u001b[0mdata\u001b[0m\u001b[0;34m,\u001b[0m \u001b[0mmask\u001b[0m\u001b[0;34m,\u001b[0m \u001b[0mEWC\u001b[0m\u001b[0;34m=\u001b[0m\u001b[0mTrue\u001b[0m\u001b[0;34m)\u001b[0m\u001b[0;34m)\u001b[0m\u001b[0;34m\u001b[0m\u001b[0m\n\u001b[0m",
      "\u001b[0;32m<ipython-input-9-0fe7e71104f5>\u001b[0m in \u001b[0;36mtrain\u001b[0;34m(model, batches_list, data, mask, EWC, stat)\u001b[0m\n\u001b[1;32m     43\u001b[0m                         )\n\u001b[1;32m     44\u001b[0m                     )\n\u001b[0;32m---> 45\u001b[0;31m             \u001b[0mset_constraint\u001b[0m\u001b[0;34m(\u001b[0m\u001b[0mmodel\u001b[0m\u001b[0;34m,\u001b[0m \u001b[0mX\u001b[0m\u001b[0;34m,\u001b[0m \u001b[0my\u001b[0m\u001b[0;34m,\u001b[0m \u001b[0mm\u001b[0m\u001b[0;34m)\u001b[0m\u001b[0;34m\u001b[0m\u001b[0m\n\u001b[0m\u001b[1;32m     46\u001b[0m \u001b[0;34m\u001b[0m\u001b[0m\n\u001b[1;32m     47\u001b[0m         \u001b[0;32mexcept\u001b[0m \u001b[0mKeyboardInterrupt\u001b[0m\u001b[0;34m:\u001b[0m\u001b[0;34m\u001b[0m\u001b[0m\n",
      "\u001b[0;32m<ipython-input-12-a6c73b0c4367>\u001b[0m in \u001b[0;36mset_constraint\u001b[0;34m(model, X, y, s)\u001b[0m\n\u001b[1;32m     10\u001b[0m \u001b[0;34m\u001b[0m\u001b[0m\n\u001b[1;32m     11\u001b[0m         \u001b[0;32mwith\u001b[0m \u001b[0msess\u001b[0m\u001b[0;34m.\u001b[0m\u001b[0mas_default\u001b[0m\u001b[0;34m(\u001b[0m\u001b[0;34m)\u001b[0m\u001b[0;34m:\u001b[0m\u001b[0;34m\u001b[0m\u001b[0m\n\u001b[0;32m---> 12\u001b[0;31m             \u001b[0mmodel\u001b[0m\u001b[0;34m.\u001b[0m\u001b[0mf\u001b[0m\u001b[0;34m[\u001b[0m\u001b[0mname\u001b[0m\u001b[0;34m]\u001b[0m\u001b[0;34m.\u001b[0m\u001b[0massign\u001b[0m\u001b[0;34m(\u001b[0m\u001b[0;36m0.3\u001b[0m \u001b[0;34m*\u001b[0m \u001b[0mnp\u001b[0m\u001b[0;34m.\u001b[0m\u001b[0msquare\u001b[0m\u001b[0;34m(\u001b[0m\u001b[0mgrad\u001b[0m\u001b[0;34m)\u001b[0m \u001b[0;34m+\u001b[0m \u001b[0;36m0.7\u001b[0m \u001b[0;34m*\u001b[0m \u001b[0mmodel\u001b[0m\u001b[0;34m.\u001b[0m\u001b[0mf\u001b[0m\u001b[0;34m[\u001b[0m\u001b[0mname\u001b[0m\u001b[0;34m]\u001b[0m\u001b[0;34m.\u001b[0m\u001b[0meval\u001b[0m\u001b[0;34m(\u001b[0m\u001b[0;34m)\u001b[0m\u001b[0;34m)\u001b[0m\u001b[0;34m.\u001b[0m\u001b[0meval\u001b[0m\u001b[0;34m(\u001b[0m\u001b[0;34m)\u001b[0m\u001b[0;34m\u001b[0m\u001b[0m\n\u001b[0m\u001b[1;32m     13\u001b[0m             \u001b[0mmodel\u001b[0m\u001b[0;34m.\u001b[0m\u001b[0mw\u001b[0m\u001b[0;34m[\u001b[0m\u001b[0mname\u001b[0m\u001b[0;34m]\u001b[0m\u001b[0;34m.\u001b[0m\u001b[0massign\u001b[0m\u001b[0;34m(\u001b[0m\u001b[0mw\u001b[0m\u001b[0;34m)\u001b[0m\u001b[0;34m.\u001b[0m\u001b[0meval\u001b[0m\u001b[0;34m(\u001b[0m\u001b[0;34m)\u001b[0m\u001b[0;34m\u001b[0m\u001b[0m\n",
      "\u001b[0;31mKeyError\u001b[0m: u'relu1'"
     ]
    }
   ],
   "source": [
    "data.append(train(model, digits.batches, digits.data, mask, EWC=True))"
   ]
  },
  {
   "cell_type": "code",
   "execution_count": null,
   "metadata": {
    "collapsed": false,
    "deletable": true,
    "editable": true
   },
   "outputs": [],
   "source": [
    "plot(data[0], \"Fig.1a. (5,5) on old batches without EWC\")"
   ]
  },
  {
   "cell_type": "code",
   "execution_count": null,
   "metadata": {
    "collapsed": false,
    "deletable": true,
    "editable": true
   },
   "outputs": [],
   "source": [
    "mlp_tensorlayer = reload(mlp_tensorlayer)\n",
    "model = mlp_tensorlayer.Model\n",
    "model = Model([784,256,256,128,64,10],{'l1':0.01,'l2':0.0,'ewc':1e15}, activation='relu', mask=True)\n",
    "sess = tf.Session(graph=model.graph)\n",
    "sess.run(model.init)\n",
    "data2 = []"
   ]
  },
  {
   "cell_type": "code",
   "execution_count": null,
   "metadata": {
    "collapsed": false,
    "deletable": true,
    "editable": true
   },
   "outputs": [],
   "source": [
    "data2.append(train(model, digits.batches, digits.data, mask, EWC=True))"
   ]
  },
  {
   "cell_type": "code",
   "execution_count": null,
   "metadata": {
    "collapsed": false,
    "deletable": true,
    "editable": true
   },
   "outputs": [],
   "source": [
    "plot(data2[0], \"Fig.1a. (5,5) on old batches without EWC\")"
   ]
  },
  {
   "cell_type": "markdown",
   "metadata": {
    "deletable": true,
    "editable": true
   },
   "source": [
    "Yyyyeah!"
   ]
  },
  {
   "cell_type": "code",
   "execution_count": null,
   "metadata": {
    "collapsed": false,
    "deletable": true,
    "editable": true
   },
   "outputs": [],
   "source": [
    "sess = tf.InteractiveSession()"
   ]
  },
  {
   "cell_type": "code",
   "execution_count": null,
   "metadata": {
    "collapsed": false,
    "deletable": true,
    "editable": true
   },
   "outputs": [],
   "source": [
    "\n",
    "x = tf.placeholder(tf.float32, shape=[None])  # 1-D tensor\n",
    "i = tf.placeholder(tf.int32, shape=[1])\n",
    "y = tf.slice(x, i, [2])\n",
    "\n",
    "#initialize\n",
    "init = tf.initialize_all_variables()\n",
    "sess = tf.Session()\n",
    "sess.run(init)\n",
    "\n",
    "#run\n",
    "result = sess.run(y, feed_dict={x: [1, 2, 3, 4, 5], i: [1]})\n",
    "print(result)\n"
   ]
  },
  {
   "cell_type": "code",
   "execution_count": null,
   "metadata": {
    "collapsed": true,
    "deletable": true,
    "editable": true
   },
   "outputs": [],
   "source": []
  }
 ],
 "metadata": {
  "kernelspec": {
   "display_name": "Python 2",
   "language": "python",
   "name": "python2"
  },
  "language_info": {
   "codemirror_mode": {
    "name": "ipython",
    "version": 2
   },
   "file_extension": ".py",
   "mimetype": "text/x-python",
   "name": "python",
   "nbconvert_exporter": "python",
   "pygments_lexer": "ipython2",
   "version": "2.7.12"
  },
  "widgets": {
   "state": {
    "ce24fd0818dd4af089b8d70ca54e0296": {
     "views": [
      {
       "cell_index": 18
      }
     ]
    }
   },
   "version": "1.2.0"
  }
 },
 "nbformat": 4,
 "nbformat_minor": 2
}
