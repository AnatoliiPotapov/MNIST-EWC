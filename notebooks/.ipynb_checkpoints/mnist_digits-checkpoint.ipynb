{
 "cells": [
  {
   "cell_type": "markdown",
   "metadata": {},
   "source": [
    "# Следующий эксперимент (MNIST DIGITS)"
   ]
  },
  {
   "cell_type": "markdown",
   "metadata": {},
   "source": [
    "    Схема:\n",
    "    \n",
    "    Обучаем последовательно классифицировать между 0и1, 2и3, 4и5, 6и7, 8и9.\n",
    "    Смотрим разницу при использовании EWC.\n",
    "    Подбираем разные значения константы EWC.\n",
    "    Прообуем разное значение колличества скрытых слоев.\n",
    "    Измеряем перекрытие при помощи Fisher overlap."
   ]
  },
  {
   "cell_type": "markdown",
   "metadata": {},
   "source": [
    "### 5 батчей. В первом только цифры - 0,1 во втором - 2,3 и.т.д. "
   ]
  },
  {
   "cell_type": "markdown",
   "metadata": {},
   "source": [
    "# Генерируем батчи"
   ]
  },
  {
   "cell_type": "code",
   "execution_count": null,
   "metadata": {
    "collapsed": true
   },
   "outputs": [],
   "source": [
    "from __future__ import print_function"
   ]
  },
  {
   "cell_type": "code",
   "execution_count": null,
   "metadata": {
    "collapsed": true
   },
   "outputs": [],
   "source": [
    "import numpy as np\n",
    "import tensorflow as tf\n",
    "import sys"
   ]
  },
  {
   "cell_type": "code",
   "execution_count": null,
   "metadata": {
    "collapsed": true
   },
   "outputs": [],
   "source": [
    "sys.path.append('../')\n",
    "from src import helpers as h\n",
    "from src import digit_batches as d"
   ]
  },
  {
   "cell_type": "code",
   "execution_count": null,
   "metadata": {
    "collapsed": true
   },
   "outputs": [],
   "source": [
    "digits = d.Digits_batches([[0,1],[2,3],[4,5],[6,7],[8,9]], batch_size=128)"
   ]
  },
  {
   "cell_type": "code",
   "execution_count": null,
   "metadata": {},
   "outputs": [],
   "source": [
    "h.plot(digits.batches[0].next()[0])"
   ]
  },
  {
   "cell_type": "code",
   "execution_count": null,
   "metadata": {},
   "outputs": [],
   "source": [
    "h.plot(digits.batches[1].next()[0])"
   ]
  },
  {
   "cell_type": "code",
   "execution_count": null,
   "metadata": {},
   "outputs": [],
   "source": [
    "h.plot(digits.batches[2].next()[0])"
   ]
  },
  {
   "cell_type": "code",
   "execution_count": null,
   "metadata": {},
   "outputs": [],
   "source": [
    "h.plot(digits.batches[3].next()[0])"
   ]
  },
  {
   "cell_type": "code",
   "execution_count": null,
   "metadata": {},
   "outputs": [],
   "source": [
    "h.plot(digits.batches[4].next()[0])"
   ]
  },
  {
   "cell_type": "markdown",
   "metadata": {},
   "source": [
    "# Новая модель с произвольным колличеством слоев и байесами"
   ]
  },
  {
   "cell_type": "code",
   "execution_count": null,
   "metadata": {
    "collapsed": true
   },
   "outputs": [],
   "source": [
    "from models import mlp_tensorlayer\n",
    "batch_size = 128"
   ]
  },
  {
   "cell_type": "code",
   "execution_count": null,
   "metadata": {},
   "outputs": [],
   "source": [
    "Model = mlp_tensorlayer.Model"
   ]
  },
  {
   "cell_type": "code",
   "execution_count": null,
   "metadata": {
    "collapsed": true
   },
   "outputs": [],
   "source": [
    "def restore(sess):\n",
    "    ckpt = tf.train.get_checkpoint_state(os.path.dirname('checkpoint_directory/{}'.format(model_name)))\n",
    "    if ckpt and ckpt.model_checkpoint_path:\n",
    "        saver.restore(sess, ckpt.model_checkpoint_path)"
   ]
  },
  {
   "cell_type": "code",
   "execution_count": null,
   "metadata": {
    "collapsed": true
   },
   "outputs": [],
   "source": [
    "max_steps = 3001\n",
    "period_print = 500\n",
    "period_stat = 100\n",
    "\n",
    "def train(model, batches_list, data = None, mask = None, EWC = False, stat = False):\n",
    "    \n",
    "    acc_track = [[] for i in range(len(data))]\n",
    "    \n",
    "    p = h.Progress(max_steps*len(batches_list))\n",
    "    pr = 0\n",
    "    \n",
    "    for ind, batches in enumerate(batches_list):\n",
    "        #print(\"Training on batches{0}\\n\".format(ind+1))\n",
    "        try:\n",
    "            for step in range(max_steps):\n",
    "                \n",
    "                pr = pr+1\n",
    "                p.update(pr)\n",
    "                m = mask[ind]\n",
    "                \n",
    "                X, y = batches.next()\n",
    "                train_d = {model.x : X, model.y_ : y, model.s: m}\n",
    "\n",
    "                if EWC ==  False:\n",
    "                    _ = sess.run(model.train_op, feed_dict=train_d)\n",
    "                if EWC ==  True:\n",
    "                    _ = sess.run(model.train_op_ewc, feed_dict=train_d)\n",
    "\n",
    "                if step % period_stat == 0:\n",
    "                    for i, d in enumerate(data):\n",
    "                        acc_track[i].append(test_acc(model, d[0], d[1], mask[i]))\n",
    "\n",
    "\n",
    "                if (step % period_print == 0) and (stat == True):\n",
    "                    test_d = {model.tf_x : X, model.tf_y : y}\n",
    "                    l,ll, train_pred = sess.run([model.cost, model.ewc_cost, model.pred], feed_dict=test_d)\n",
    "                    print(\n",
    "                        \"Step {0}: \\n loss: {1} {2} \\n minibatch acc: {3}% \\n\".format(\n",
    "                            step,\n",
    "                            l,\n",
    "                            ll,\n",
    "                            accuracy(train_pred, y, m)\n",
    "                        )\n",
    "                    )\n",
    "            set_constraint(model, X, y, m)\n",
    "\n",
    "        except KeyboardInterrupt:\n",
    "            set_constraint(model, X, y, m)\n",
    "            print('training interrupted')\n",
    "\n",
    "    return acc_track"
   ]
  },
  {
   "cell_type": "code",
   "execution_count": null,
   "metadata": {
    "collapsed": true
   },
   "outputs": [],
   "source": []
  },
  {
   "cell_type": "code",
   "execution_count": null,
   "metadata": {
    "collapsed": true
   },
   "outputs": [],
   "source": [
    "def test_acc(model, X, y, mask):\n",
    "    test_d = {model.x: X, model.y_: y, model.s: mask}\n",
    "    accuracy = sess.run([model.acc], feed_dict=test_d)\n",
    "    return accuracy         "
   ]
  },
  {
   "cell_type": "code",
   "execution_count": null,
   "metadata": {
    "collapsed": true
   },
   "outputs": [],
   "source": [
    "def score(model, datasets, mask):\n",
    "    acc = 0\n",
    "    for i, (X, y) in enumerate(datasets):\n",
    "        acc+=test_acc(model, X, y, mask[i])[0]\n",
    "    acc /= len(datasets)\n",
    "    return acc"
   ]
  },
  {
   "cell_type": "code",
   "execution_count": null,
   "metadata": {
    "collapsed": true
   },
   "outputs": [],
   "source": [
    "def get_gradient(model, batches):\n",
    "    X, y = batches.next()\n",
    "    test_d = {model.x : X, model.y_ : y}\n",
    "    gradient = sess.run([model.grads], feed_dict=test_d)\n",
    "    return gradient"
   ]
  },
  {
   "cell_type": "code",
   "execution_count": null,
   "metadata": {
    "collapsed": true
   },
   "outputs": [],
   "source": [
    "# Привязать к данным\n",
    "def set_constraint(model, X, y, s):\n",
    "    # Вычисляем Градиент по весам\n",
    "    test_d = {model.x : X, model.y_ : y, model.s : s}\n",
    "    g = sess.run([model.grads], feed_dict=test_d)\n",
    "\n",
    "    for i, m in enumerate(model.network.all_params):\n",
    "        name = m.name.split(\":\")[0]\n",
    "        grad, w = g[0][i]\n",
    "        \n",
    "        with sess.as_default():\n",
    "            model.f[name].assign(1.0 * np.square(grad) + 1.0 * model.f[name].eval()).eval()\n",
    "            model.w[name].assign(w).eval()"
   ]
  },
  {
   "cell_type": "code",
   "execution_count": null,
   "metadata": {
    "collapsed": true
   },
   "outputs": [],
   "source": [
    "def plot(acc_track, title):\n",
    "    %matplotlib inline\n",
    "    import matplotlib.pyplot as plt\n",
    "    plt.rc(\"font\", size=10)\n",
    "    fig = plt.figure()\n",
    "    fig.suptitle(title, fontsize=14)\n",
    "    axes = plt.gca()\n",
    "    axes.set_ylim([50,100])\n",
    "    l = len(acc_track[0])\n",
    "    for ind, acc in enumerate(acc_track):\n",
    "        plt.plot(range(l), np.multiply(acc_track[ind],100.0), label='Batches {0}'.format(ind))\n",
    "\n",
    "    plt.ylabel('accuracy, %')\n",
    "    plt.xlabel('number of training batches x100')\n",
    "    plt.legend(loc=4, borderaxespad=0.)\n",
    "    plt.show()"
   ]
  },
  {
   "cell_type": "code",
   "execution_count": null,
   "metadata": {
    "collapsed": true
   },
   "outputs": [],
   "source": [
    "def fisher_dist(f1, f2):\n",
    "    \"\"\" Returns measure of similarity betwee fisher diagonals\"\"\"\n",
    "    f1 = f1 / np.sum(f1)\n",
    "    f2 = f2 / np.sum(f2)\n",
    "    return 0.5 * np.sum(f1 + f2 - np.sqrt(np.multiply(f1, f2)))"
   ]
  },
  {
   "cell_type": "code",
   "execution_count": null,
   "metadata": {
    "collapsed": true
   },
   "outputs": [],
   "source": [
    "def weight_histogram():\n",
    "    pass"
   ]
  },
  {
   "cell_type": "code",
   "execution_count": null,
   "metadata": {
    "collapsed": true
   },
   "outputs": [],
   "source": [
    "def weight_map():\n",
    "    pass"
   ]
  },
  {
   "cell_type": "markdown",
   "metadata": {},
   "source": [
    "# Каждый таск - классификация на два класса, поэтому cross entropy считается только по класам, присутствующим в выборке"
   ]
  },
  {
   "cell_type": "code",
   "execution_count": null,
   "metadata": {
    "scrolled": true
   },
   "outputs": [],
   "source": [
    "mask = np.zeros([5,10])\n",
    "for i in range(5):\n",
    "    mask[i,2*i:2*i+2]=1\n",
    "mask"
   ]
  },
  {
   "cell_type": "code",
   "execution_count": null,
   "metadata": {
    "collapsed": true
   },
   "outputs": [],
   "source": [
    "from itertools import product"
   ]
  },
  {
   "cell_type": "markdown",
   "metadata": {},
   "source": [
    "## Подбор значение константы EWC"
   ]
  },
  {
   "cell_type": "code",
   "execution_count": null,
   "metadata": {
    "collapsed": true
   },
   "outputs": [],
   "source": [
    "ewc_values = [1e6, 3e6, 1e7, 3e7, 1e8, 3e8, 1e9, 3e9, 1e10, 1e11, 1e12, 1e15]"
   ]
  },
  {
   "cell_type": "code",
   "execution_count": null,
   "metadata": {
    "collapsed": true
   },
   "outputs": [],
   "source": [
    "data = []\n",
    "scores = []"
   ]
  },
  {
   "cell_type": "code",
   "execution_count": null,
   "metadata": {},
   "outputs": [],
   "source": [
    "for ewc_val in ewc_values:\n",
    "    \n",
    "    model = Model([784,512,512,10],{'l1':0.0,'l2':0.0,'ewc': ewc_val}, activation = 'relu', biases=False, mask=True)\n",
    "    sess = tf.Session(graph=model.graph)\n",
    "    sess.run(model.init)\n",
    "    data.append(train(model, digits.batches, digits.data, mask, EWC=True))\n",
    "    scores.append(score(model, digits.data, mask))"
   ]
  },
  {
   "cell_type": "code",
   "execution_count": null,
   "metadata": {},
   "outputs": [],
   "source": [
    "scores"
   ]
  },
  {
   "cell_type": "markdown",
   "metadata": {},
   "source": [
    "## Лучшее значение константы EWC - 1e7"
   ]
  },
  {
   "cell_type": "markdown",
   "metadata": {},
   "source": [
    "## Подбор числа нейронов на скрытом слое"
   ]
  },
  {
   "cell_type": "code",
   "execution_count": null,
   "metadata": {
    "collapsed": true
   },
   "outputs": [],
   "source": [
    "hidd_units = [64, 128, 256, 512, 1024, 2048]"
   ]
  },
  {
   "cell_type": "code",
   "execution_count": null,
   "metadata": {
    "collapsed": true
   },
   "outputs": [],
   "source": [
    "data_hu = []\n",
    "scores_hu = []"
   ]
  },
  {
   "cell_type": "code",
   "execution_count": null,
   "metadata": {
    "scrolled": true
   },
   "outputs": [],
   "source": [
    "for u in hidd_units:\n",
    "\n",
    "    model = Model([784,u,u,10],{'l1':0.0,'l2':0.0,'ewc': 1e7}, activation = 'relu', biases=False, mask=True)\n",
    "    sess = tf.Session(graph=model.graph)\n",
    "    sess.run(model.init)\n",
    "    data_hu.append(train(model, digits.batches, digits.data, mask, EWC=True))\n",
    "    scores_hu.append(score(model, digits.data, mask))"
   ]
  },
  {
   "cell_type": "code",
   "execution_count": null,
   "metadata": {},
   "outputs": [],
   "source": [
    "scores_hu"
   ]
  },
  {
   "cell_type": "markdown",
   "metadata": {},
   "source": [
    "## Лучшее значение числа нейронов - 512"
   ]
  },
  {
   "cell_type": "code",
   "execution_count": null,
   "metadata": {
    "collapsed": true
   },
   "outputs": [],
   "source": [
    "h_layers = [2,3,5]"
   ]
  },
  {
   "cell_type": "code",
   "execution_count": null,
   "metadata": {
    "collapsed": true
   },
   "outputs": [],
   "source": [
    "data_ls = []\n",
    "scores_ls = []"
   ]
  },
  {
   "cell_type": "code",
   "execution_count": null,
   "metadata": {},
   "outputs": [],
   "source": [
    "for hl in h_layers:\n",
    "    layers = [784] + [512]*hl + [10]\n",
    "    print(layers)\n",
    "    model = Model(layers,{'l1':0.0,'l2':0.0,'ewc': 1e7}, activation = 'relu', biases=False, mask=True)\n",
    "    sess = tf.Session(graph=model.graph)\n",
    "    sess.run(model.init)\n",
    "    data_ls.append(train(model, digits.batches, digits.data, mask, EWC=True))\n",
    "    scores_ls.append(score(model, digits.data, mask))"
   ]
  },
  {
   "cell_type": "code",
   "execution_count": null,
   "metadata": {
    "collapsed": true
   },
   "outputs": [],
   "source": []
  },
  {
   "cell_type": "code",
   "execution_count": null,
   "metadata": {},
   "outputs": [],
   "source": [
    "plot(data[0], \"Fig.1a. (5,5) on old batches without EWC\")"
   ]
  },
  {
   "cell_type": "code",
   "execution_count": null,
   "metadata": {},
   "outputs": [],
   "source": [
    "score(model, digits.data, mask)"
   ]
  },
  {
   "cell_type": "code",
   "execution_count": null,
   "metadata": {
    "collapsed": true
   },
   "outputs": [],
   "source": [
    "mlp_tensorlayer = reload(mlp_tensorlayer)\n",
    "model = mlp_tensorlayer.Model\n",
    "model = Model([784,256,256,128,64,10],{'l1':0.01,'l2':0.0,'ewc':1e15}, activation='relu', mask=True)\n",
    "sess = tf.Session(graph=model.graph)\n",
    "sess.run(model.init)\n",
    "data2 = []"
   ]
  },
  {
   "cell_type": "code",
   "execution_count": null,
   "metadata": {
    "collapsed": true
   },
   "outputs": [],
   "source": [
    "data2.append(train(model, digits.batches, digits.data, mask, EWC=True))"
   ]
  },
  {
   "cell_type": "code",
   "execution_count": null,
   "metadata": {
    "collapsed": true
   },
   "outputs": [],
   "source": [
    "plot(data2[0], \"Fig.1a. (5,5) on old batches without EWC\")"
   ]
  },
  {
   "cell_type": "code",
   "execution_count": null,
   "metadata": {
    "collapsed": true
   },
   "outputs": [],
   "source": []
  }
 ],
 "metadata": {
  "anaconda-cloud": {},
  "kernelspec": {
   "display_name": "Python [default]",
   "language": "python",
   "name": "python2"
  },
  "language_info": {
   "codemirror_mode": {
    "name": "ipython",
    "version": 2
   },
   "file_extension": ".py",
   "mimetype": "text/x-python",
   "name": "python",
   "nbconvert_exporter": "python",
   "pygments_lexer": "ipython2",
   "version": "2.7.13"
  },
  "widgets": {
   "state": {
    "125260c7c8834581b4ab91607782ecba": {
     "views": [
      {
       "cell_index": 32
      }
     ]
    }
   },
   "version": "1.2.0"
  }
 },
 "nbformat": 4,
 "nbformat_minor": 2
}
