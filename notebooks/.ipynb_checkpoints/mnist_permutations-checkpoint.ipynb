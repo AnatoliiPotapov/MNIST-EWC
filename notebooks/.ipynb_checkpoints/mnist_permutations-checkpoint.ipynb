{
 "cells": [
  {
   "cell_type": "markdown",
   "metadata": {
    "deletable": true,
    "editable": true
   },
   "source": [
    "# EWC example on MNIST dataset"
   ]
  },
  {
   "cell_type": "markdown",
   "metadata": {
    "deletable": true,
    "editable": true
   },
   "source": [
    "    Potapov Anatoly 4115 MIPT 2017"
   ]
  },
  {
   "cell_type": "markdown",
   "metadata": {
    "deletable": true,
    "editable": true
   },
   "source": [
    "based on https://deepmind.com/blog/enabling-continual-learning-in-neural-networks/\n",
    "\n",
    "and http://www.pnas.org/content/early/2017/03/13/1611835114.abstract"
   ]
  },
  {
   "cell_type": "markdown",
   "metadata": {
    "deletable": true,
    "editable": true
   },
   "source": [
    "    The task is to demonstrate that EWC technic published in recent DeepMind paper helps with catastrophical forgetting."
   ]
  },
  {
   "cell_type": "markdown",
   "metadata": {
    "deletable": true,
    "editable": true
   },
   "source": [
    "We present an algorithm, EWC, that allows knowledge of previous\n",
    "tasks to be protected during new learning, thereby avoiding\n",
    "catastrophic forgetting. It does so by selectively decreasing\n",
    "the plasticity of weights and thus has certain parallels with\n",
    "neurobiological models of synaptic consolidation (15, 16). We\n",
    "implement EWC as a soft, quadratic constraint whereby each\n",
    "weight is pulled back toward its old values by an amount\n",
    "proportional to its importance for performance on previously\n",
    "learned tasks. In analytically tractable settings, we demonstrate\n",
    "that EWC can protect network weights from interference and\n",
    "thus increase the fraction of memories retained over plain\n",
    "gradient descent. To the extent that tasks share structure, networks\n",
    "trained with EWC reuse shared components of the network.\n",
    "We further show that EWC can be effectively combined\n",
    "with deep neural networks to support continual learning\n",
    "in challenging reinforcement learning scenarios, such as Atari\n",
    "2600 games."
   ]
  },
  {
   "cell_type": "markdown",
   "metadata": {
    "deletable": true,
    "editable": true
   },
   "source": [
    "The EWC algorithm can be grounded in Bayesian approaches\n",
    "to learning. Formally, when there is a new task to be learned, the\n",
    "network parameters are tempered by a prior which is the posterior\n",
    "distribution on the parameters given data from the previous\n",
    "task(s). This enables fast learning rates on parameters that are\n",
    "poorly constrained by the previous tasks and slow learning rates for those that are crucial.\n",
    "    "
   ]
  },
  {
   "cell_type": "markdown",
   "metadata": {
    "deletable": true,
    "editable": true
   },
   "source": [
    "Основная идея состоит во введении квадратичного штрафа за изменение весов, от которых зависит точность на ранее изученных задачах:"
   ]
  },
  {
   "cell_type": "markdown",
   "metadata": {
    "deletable": true,
    "editable": true
   },
   "source": [
    "$$\n",
    "L(\\theta) = L_B(\\theta) +  \\sum_{i} \\frac{ewc}{2} \\cdot F_i (\\theta_i - \\theta^*_{A, i})^2\n",
    "$$"
   ]
  },
  {
   "cell_type": "markdown",
   "metadata": {
    "deletable": true,
    "editable": true
   },
   "source": [
    "$$\n",
    "\\alpha \\equiv p[ data | theory ] \n",
    "$$\n",
    "Функция правдоподобия"
   ]
  },
  {
   "cell_type": "markdown",
   "metadata": {
    "deletable": true,
    "editable": true
   },
   "source": [
    "$$\n",
    "F_i = \\frac{\\partial^2 \\alpha}{\\partial \\theta_i \\partial \\theta_i} = \\frac{\\partial^2 L_A(\\theta, data)}{\\partial \\theta_i \\partial \\theta_i}\n",
    "$$\n",
    "Где $F_i$ - диагональные элементы матрицы Фишера."
   ]
  },
  {
   "cell_type": "markdown",
   "metadata": {
    "deletable": true,
    "editable": true
   },
   "source": [
    "Вычисление только диагональных элементов матрицы Фишера F линейно по колличеству параметров и по колличеству примеров в обучающей выборке."
   ]
  },
  {
   "cell_type": "code",
   "execution_count": 2,
   "metadata": {
    "collapsed": true,
    "deletable": true,
    "editable": true
   },
   "outputs": [],
   "source": [
    "from __future__ import print_function"
   ]
  },
  {
   "cell_type": "code",
   "execution_count": 3,
   "metadata": {
    "collapsed": false,
    "deletable": true,
    "editable": true
   },
   "outputs": [],
   "source": [
    "import numpy as np\n",
    "import tensorflow as tf\n",
    "import tensorlayer as tl"
   ]
  },
  {
   "cell_type": "code",
   "execution_count": 4,
   "metadata": {
    "collapsed": false,
    "deletable": true,
    "editable": true
   },
   "outputs": [
    {
     "data": {
      "text/plain": [
       "'1.0.0'"
      ]
     },
     "execution_count": 4,
     "metadata": {},
     "output_type": "execute_result"
    }
   ],
   "source": [
    "tf.__version__"
   ]
  },
  {
   "cell_type": "code",
   "execution_count": 5,
   "metadata": {
    "collapsed": false,
    "deletable": true,
    "editable": true
   },
   "outputs": [],
   "source": [
    "import sys\n",
    "sys.path.append('../')\n",
    "from src import helpers\n",
    "from models import perceptron"
   ]
  },
  {
   "cell_type": "markdown",
   "metadata": {
    "deletable": true,
    "editable": true
   },
   "source": [
    "### Load and format data"
   ]
  },
  {
   "cell_type": "code",
   "execution_count": 6,
   "metadata": {
    "collapsed": false,
    "deletable": true,
    "editable": true
   },
   "outputs": [
    {
     "name": "stdout",
     "output_type": "stream",
     "text": [
      "('Found and verified', '../data/mnist.pkl.gz')\n"
     ]
    }
   ],
   "source": [
    "train_filename = helpers.maybe_download(\n",
    "    url='http://deeplearning.net/data/mnist/',\n",
    "    data_root='../data/',\n",
    "    filename='mnist.pkl.gz',\n",
    "    expected_bytes=16168813)"
   ]
  },
  {
   "cell_type": "code",
   "execution_count": 7,
   "metadata": {
    "collapsed": false,
    "deletable": true,
    "editable": true
   },
   "outputs": [],
   "source": [
    "import gzip\n",
    "import gzip\n",
    "import pickle\n",
    "\n",
    "with gzip.open('../data/mnist.pkl.gz', 'rb') as f:\n",
    "    (X_train, y_train), (X_val, y_val), (X_test, y_test) =  pickle.load(f)"
   ]
  },
  {
   "cell_type": "code",
   "execution_count": 8,
   "metadata": {
    "collapsed": false,
    "deletable": true,
    "editable": true
   },
   "outputs": [
    {
     "data": {
      "image/png": "[encoded data removed]",
      "text/plain": [
       "<matplotlib.figure.Figure at 0x7fb0361923d0>"
      ]
     },
     "metadata": {},
     "output_type": "display_data"
    }
   ],
   "source": [
    "import matplotlib.pyplot as plt\n",
    "# plot 4 images as gray scale\n",
    "plt.subplot(221)\n",
    "plt.imshow(X_train[0].reshape(28,28), cmap=plt.get_cmap('gray'))\n",
    "plt.subplot(222)\n",
    "plt.imshow(X_train[1].reshape(28,28), cmap=plt.get_cmap('gray'))\n",
    "plt.subplot(223)\n",
    "plt.imshow(X_train[2].reshape(28,28), cmap=plt.get_cmap('gray'))\n",
    "plt.subplot(224)\n",
    "plt.imshow(X_train[3].reshape(28,28), cmap=plt.get_cmap('gray'))\n",
    "# show the plot\n",
    "plt.show()"
   ]
  },
  {
   "cell_type": "markdown",
   "metadata": {
    "deletable": true,
    "editable": true
   },
   "source": [
    "### Y - to one hot"
   ]
  },
  {
   "cell_type": "code",
   "execution_count": 9,
   "metadata": {
    "collapsed": false,
    "deletable": true,
    "editable": true
   },
   "outputs": [],
   "source": [
    "image_size = 28"
   ]
  },
  {
   "cell_type": "code",
   "execution_count": 10,
   "metadata": {
    "collapsed": false,
    "deletable": true,
    "editable": true
   },
   "outputs": [
    {
     "name": "stdout",
     "output_type": "stream",
     "text": [
      "(10000, 784) (10000,)\n"
     ]
    }
   ],
   "source": [
    "#X_val, y_val  = helpers.one_hot(X_val, y_val.reshape(10000,))\n",
    "print(X_val.shape, y_val.shape)"
   ]
  },
  {
   "cell_type": "code",
   "execution_count": 11,
   "metadata": {
    "collapsed": false,
    "deletable": true,
    "editable": true
   },
   "outputs": [
    {
     "name": "stdout",
     "output_type": "stream",
     "text": [
      "(50000, 784) (50000,)\n"
     ]
    }
   ],
   "source": [
    "#X_train, y_train  = helpers.one_hot(X_train, y_train.reshape(50000,))\n",
    "print(X_train.shape, y_train.shape)"
   ]
  },
  {
   "cell_type": "markdown",
   "metadata": {
    "deletable": true,
    "editable": true
   },
   "source": [
    "# Tensorflow MLP"
   ]
  },
  {
   "cell_type": "code",
   "execution_count": 12,
   "metadata": {
    "collapsed": true,
    "deletable": true,
    "editable": true
   },
   "outputs": [],
   "source": [
    "batch_size = 128"
   ]
  },
  {
   "cell_type": "code",
   "execution_count": 13,
   "metadata": {
    "collapsed": true,
    "deletable": true,
    "editable": true
   },
   "outputs": [],
   "source": [
    "from models import perceptron"
   ]
  },
  {
   "cell_type": "code",
   "execution_count": null,
   "metadata": {
    "collapsed": true,
    "deletable": true,
    "editable": true
   },
   "outputs": [],
   "source": []
  },
  {
   "cell_type": "code",
   "execution_count": 121,
   "metadata": {
    "collapsed": false,
    "deletable": true,
    "editable": true
   },
   "outputs": [],
   "source": [
    "class Model:\n",
    "    \"\"\" This is fully-connected net with several hidden layers. \"\"\"\n",
    "    \n",
    "    def __init__(self, neurons, losses, activatrion = 'relu', optimizer = 'Adam'):\n",
    "        \n",
    "        tl.layers.set_name_reuse(True)\n",
    "        self.graph = tf.Graph()\n",
    "        \n",
    "        with self.graph.as_default():\n",
    "        \n",
    "            l = len(neurons)\n",
    "\n",
    "            # define input placeholder and layer\n",
    "            self.x = tf.placeholder(tf.float32, shape=[None, neurons[0]], name='x')\n",
    "            self.y_ = tf.placeholder(tf.int64, shape=[None, ], name='y_') \n",
    "            self.network = tl.layers.InputLayer(self.x, name='input_layer') \n",
    "\n",
    "            f = {}\n",
    "            w = {}\n",
    "            \n",
    "            # define hidden layers\n",
    "            for index, h_units in enumerate(neurons[1:-1]):\n",
    "                self.network = tl.layers.DenseLayer(self.network, n_units=h_units,\n",
    "                                    act=tf.nn.relu, b_init=None, name='relu{0}'.format(index+1))\n",
    "                \n",
    "                # define w* and fisher coefs\n",
    "                w['relu{0}'.format(index+1)] = tf.Variable(tf.random_normal([neurons[index], h_units]))\n",
    "                f['relu{0}'.format(index+1)] = tf.Variable(tf.zeros([neurons[index], h_units]))\n",
    "\n",
    "                \n",
    "            # define output layer\n",
    "            self.network = tl.layers.DenseLayer(self.network, n_units=neurons[l-1],\n",
    "                                    act = tf.identity,\n",
    "                                    b_init=None,\n",
    "                                    name='output_layer')\n",
    "            \n",
    "            w['output_layer'] = tf.Variable(tf.random_normal([neurons[l-2], neurons[l-1]]))\n",
    "            f['output_layer'] = tf.Variable(tf.zeros([neurons[l-2], neurons[l-1]]))\n",
    "\n",
    "            self.l1 = tf.constant(losses['l1'])\n",
    "            self.l2 = tf.constant(losses['l2'])\n",
    "            self.ewc = tf.constant(losses['ewc'])\n",
    "            self.f = f\n",
    "            self.w = w\n",
    "            \n",
    "            # define cost function and metric\n",
    "            y = self.network.outputs\n",
    "            self.cost = tl.cost.cross_entropy(y, self.y_, 'cost')\n",
    "\n",
    "            correct_prediction = tf.equal(tf.argmax(y, 1), self.y_)\n",
    "            self.acc = tf.reduce_mean(tf.cast(correct_prediction, tf.float32))\n",
    "            self.y_op = tf.argmax(tf.nn.softmax(y), 1)\n",
    "            \n",
    "            ewc_cost = self.cost\n",
    "            # define ewc cost\n",
    "            for m in self.network.all_params:\n",
    "                name = m.name.split(\"/\")[0]\n",
    "                ewc_cost = ewc_cost +  self.ewc * tf.nn.l2_loss( \n",
    "                    tf.multiply(self.f[name], tf.subtract(m, self.w[name])))\n",
    "                \n",
    "            self.ewc_cost = ewc_cost\n",
    "\n",
    "            # define the optimizer\n",
    "            train_params = self.network.all_params\n",
    "            self.optimizer = tf.train.AdamOptimizer(learning_rate=0.0001, beta1=0.9, beta2=0.999,\n",
    "                                epsilon=1e-08, use_locking=False)\n",
    "            \n",
    "            self.train_op = self.optimizer.minimize(self.cost, var_list=train_params)\n",
    "            self.train_op_ewc = self.optimizer.minimize(self.ewc_cost, var_list=train_params)\n",
    "\n",
    "            # Initializing the variables\n",
    "            self.init = tf.global_variables_initializer()  \n",
    "            \n",
    "            # Gradient op\n",
    "            self.grads = self.optimizer.compute_gradients(self.cost, self.network.all_params)\n",
    "            \n"
   ]
  },
  {
   "cell_type": "code",
   "execution_count": 37,
   "metadata": {
    "collapsed": false,
    "deletable": true,
    "editable": true
   },
   "outputs": [
    {
     "data": {
      "text/plain": [
       "[]"
      ]
     },
     "execution_count": 37,
     "metadata": {},
     "output_type": "execute_result"
    }
   ],
   "source": [
    "tf.trainable_variables()"
   ]
  },
  {
   "cell_type": "markdown",
   "metadata": {
    "deletable": true,
    "editable": true
   },
   "source": [
    "### Batch generator"
   ]
  },
  {
   "cell_type": "code",
   "execution_count": 38,
   "metadata": {
    "collapsed": true,
    "deletable": true,
    "editable": true
   },
   "outputs": [],
   "source": [
    "import matplotlib.pyplot as plt\n",
    "def plot(X):# plot 4 images as gray scale\n",
    "    plt.subplot(221)\n",
    "    plt.imshow(X[0].reshape(28,28), cmap=plt.get_cmap('gray'))\n",
    "    plt.subplot(222)\n",
    "    plt.imshow(X[1].reshape(28,28), cmap=plt.get_cmap('gray'))\n",
    "    plt.subplot(223)\n",
    "    plt.imshow(X[2].reshape(28,28), cmap=plt.get_cmap('gray'))\n",
    "    plt.subplot(224)\n",
    "    plt.imshow(X[3].reshape(28,28), cmap=plt.get_cmap('gray'))\n",
    "    # show the plot\n",
    "    plt.show()"
   ]
  },
  {
   "cell_type": "code",
   "execution_count": 39,
   "metadata": {
    "collapsed": false,
    "deletable": true,
    "editable": true
   },
   "outputs": [
    {
     "name": "stdout",
     "output_type": "stream",
     "text": [
      "(128, 784) (128,)\n"
     ]
    }
   ],
   "source": [
    "batch_size = 128\n",
    "\n",
    "def batch_generator(X, y, batch_size):\n",
    "    l = X.shape[0]\n",
    "    def another():\n",
    "        indexes = np.random.randint(low=0, high=l, size=batch_size)\n",
    "        return [\n",
    "            X.take(indexes, axis=0),\n",
    "            y[indexes]\n",
    "        ]\n",
    "            \n",
    "    while True:\n",
    "        yield another()\n",
    "        \n",
    "    \n",
    "batches = batch_generator(X_train, y_train , batch_size=batch_size)\n",
    "x, y = batches.next()\n",
    "print(x.shape, y.shape)"
   ]
  },
  {
   "cell_type": "code",
   "execution_count": 40,
   "metadata": {
    "collapsed": false,
    "deletable": true,
    "editable": true
   },
   "outputs": [
    {
     "data": {
      "image/png": "[encoded data removed]",
      "text/plain": [
       "<matplotlib.figure.Figure at 0x7fb02683bbd0>"
      ]
     },
     "metadata": {},
     "output_type": "display_data"
    }
   ],
   "source": [
    "X,y = batches.next()\n",
    "plot(X)"
   ]
  },
  {
   "cell_type": "markdown",
   "metadata": {
    "deletable": true,
    "editable": true
   },
   "source": [
    "### Introducing permutations"
   ]
  },
  {
   "cell_type": "code",
   "execution_count": 41,
   "metadata": {
    "collapsed": false,
    "deletable": true,
    "editable": true
   },
   "outputs": [],
   "source": [
    "permutations = helpers.permutation(X_train,5)\n",
    "batches = [batch_generator(X, y_train, batch_size=batch_size) for X in permutations]"
   ]
  },
  {
   "cell_type": "code",
   "execution_count": 42,
   "metadata": {
    "collapsed": false,
    "deletable": true,
    "editable": true
   },
   "outputs": [
    {
     "data": {
      "image/png": "[encoded data removed]",
      "text/plain": [
       "<matplotlib.figure.Figure at 0x7fb02665fbd0>"
      ]
     },
     "metadata": {},
     "output_type": "display_data"
    }
   ],
   "source": [
    "plot(batches[0].next()[0])"
   ]
  },
  {
   "cell_type": "code",
   "execution_count": 43,
   "metadata": {
    "collapsed": false,
    "deletable": true,
    "editable": true
   },
   "outputs": [
    {
     "data": {
      "image/png": "[encoded data removed]",
      "text/plain": [
       "<matplotlib.figure.Figure at 0x7fb028f53290>"
      ]
     },
     "metadata": {},
     "output_type": "display_data"
    }
   ],
   "source": [
    "plot(batches[1].next()[0])"
   ]
  },
  {
   "cell_type": "code",
   "execution_count": 44,
   "metadata": {
    "collapsed": false,
    "deletable": true,
    "editable": true
   },
   "outputs": [
    {
     "data": {
      "image/png": "[encoded data removed]",
      "text/plain": [
       "<matplotlib.figure.Figure at 0x7fb028d4c090>"
      ]
     },
     "metadata": {},
     "output_type": "display_data"
    }
   ],
   "source": [
    "plot(batches[2].next()[0])"
   ]
  },
  {
   "cell_type": "markdown",
   "metadata": {
    "deletable": true,
    "editable": true
   },
   "source": [
    "### Helper functions for training"
   ]
  },
  {
   "cell_type": "code",
   "execution_count": 45,
   "metadata": {
    "collapsed": true,
    "deletable": true,
    "editable": true
   },
   "outputs": [],
   "source": [
    "def accuracy(predictions, labels):\n",
    "    return (100.0 * np.sum(np.argmax(predictions, 1) == np.argmax(labels, 1))\n",
    "                    / predictions.shape[0])"
   ]
  },
  {
   "cell_type": "code",
   "execution_count": 46,
   "metadata": {
    "collapsed": true,
    "deletable": true,
    "editable": true
   },
   "outputs": [],
   "source": [
    "def restore(sess):\n",
    "    ckpt = tf.train.get_checkpoint_state(os.path.dirname('checkpoint_directory/{}'.format(model_name)))\n",
    "    if ckpt and ckpt.model_checkpoint_path:\n",
    "        saver.restore(sess, ckpt.model_checkpoint_path)"
   ]
  },
  {
   "cell_type": "code",
   "execution_count": 113,
   "metadata": {
    "collapsed": false,
    "deletable": true,
    "editable": true
   },
   "outputs": [],
   "source": [
    "max_steps = 3001\n",
    "period_print = 500\n",
    "period_stat = 100\n",
    "\n",
    "def train(model, batches_list, data = None, EWC = False, stat = False):\n",
    "    \n",
    "    acc_track = [[] for i in range(len(data))]\n",
    "    \n",
    "    p = helpers.Progress(max_steps*len(batches_list))\n",
    "    pr = 0\n",
    "    \n",
    "    for ind, batches in enumerate(batches_list):\n",
    "        #print(\"Training on batches{0}\\n\".format(ind+1))\n",
    "        try:\n",
    "            for step in range(max_steps):\n",
    "                \n",
    "                pr = pr+1\n",
    "                p.update(pr)\n",
    "                \n",
    "                X, y = batches.next()\n",
    "                train_d = {model.x : X, model.y_ : y}\n",
    "\n",
    "                if EWC ==  False:\n",
    "                    _ = sess.run(model.train_op, feed_dict=train_d)\n",
    "                if EWC ==  True:\n",
    "                    _ = sess.run(model.train_op_ewc, feed_dict=train_d)\n",
    "\n",
    "                if step % period_stat == 0:\n",
    "                    for i, d in enumerate(data):\n",
    "                        acc_track[i].append(test_acc(model, d, y_train))\n",
    "\n",
    "\n",
    "                if (step % period_print == 0) and (stat == True):\n",
    "                    test_d = {model.tf_x : X, model.tf_y : y}\n",
    "                    l,ll, train_pred = sess.run([model.cost, model.ewc_cost, model.pred], feed_dict=test_d)\n",
    "                    print(\n",
    "                        \"Step {0}: \\n loss: {1} {2} \\n minibatch acc: {3}% \\n\".format(\n",
    "                            step,\n",
    "                            l,\n",
    "                            ll,\n",
    "                            accuracy(train_pred, y)\n",
    "                        )\n",
    "                    )\n",
    "            set_constraint(model, X, y)\n",
    "\n",
    "        except KeyboardInterrupt:\n",
    "            set_constraint(model, X, y)\n",
    "            print('training interrupted')\n",
    "\n",
    "    return acc_track"
   ]
  },
  {
   "cell_type": "code",
   "execution_count": 74,
   "metadata": {
    "collapsed": false,
    "deletable": true,
    "editable": true
   },
   "outputs": [],
   "source": [
    "def test_acc(model, X, y):\n",
    "    test_d = {model.x : X, model.y_ : y}\n",
    "    accuracy = sess.run([model.acc], feed_dict=test_d)\n",
    "    return accuracy            "
   ]
  },
  {
   "cell_type": "code",
   "execution_count": 49,
   "metadata": {
    "collapsed": true,
    "deletable": true,
    "editable": true
   },
   "outputs": [],
   "source": [
    "def get_gradient(model, batches):\n",
    "    X, y = batches.next()\n",
    "    test_d = {model.x : X, model.y_ : y}\n",
    "    gradient = sess.run([model.grads], feed_dict=test_d)\n",
    "    return gradient"
   ]
  },
  {
   "cell_type": "code",
   "execution_count": 131,
   "metadata": {
    "collapsed": false,
    "deletable": true,
    "editable": true
   },
   "outputs": [],
   "source": [
    "# Привязать к данным\n",
    "def set_constraint(model, X, y):\n",
    "    # Вычисляем Градиент по весам\n",
    "    test_d = {model.x : X, model.y_ : y}\n",
    "    g = sess.run([model.grads], feed_dict=test_d)\n",
    "\n",
    "    for i, m in enumerate(model.network.all_params):\n",
    "        name = m.name.split(\"/\")[0]\n",
    "        grad, w = g[0][i]\n",
    "        \n",
    "        with sess.as_default():\n",
    "            model.f[name].assign(0.3 * np.square(grad) + 0.7 * model.f[name].eval()).eval()\n",
    "            model.w[name].assign(w).eval\n",
    "   "
   ]
  },
  {
   "cell_type": "code",
   "execution_count": 126,
   "metadata": {
    "collapsed": false,
    "deletable": true,
    "editable": true
   },
   "outputs": [],
   "source": [
    "def plot(acc_track, title):\n",
    "    %matplotlib inline\n",
    "    import matplotlib.pyplot as plt\n",
    "    plt.rc(\"font\", size=10)\n",
    "    fig = plt.figure()\n",
    "    fig.suptitle(title, fontsize=14)\n",
    "    axes = plt.gca()\n",
    "    axes.set_ylim([0,100])\n",
    "    l = len(acc_track[0])\n",
    "    for ind, acc in enumerate(acc_track):\n",
    "        plt.plot(range(l), np.multiply(acc_track[ind],100.0), label='Number {0}'.format(ind))\n",
    "\n",
    "    plt.ylabel('accuracy, %')\n",
    "    plt.xlabel('number of training batches x100')\n",
    "    plt.legend(loc=4, borderaxespad=0.)\n",
    "    plt.show()"
   ]
  },
  {
   "cell_type": "code",
   "execution_count": 127,
   "metadata": {
    "collapsed": false,
    "deletable": true,
    "editable": true
   },
   "outputs": [
    {
     "ename": "IndentationError",
     "evalue": "expected an indented block (<ipython-input-127-5a6cf8d23d85>, line 5)",
     "output_type": "error",
     "traceback": [
      "\u001b[0;36m  File \u001b[0;32m\"<ipython-input-127-5a6cf8d23d85>\"\u001b[0;36m, line \u001b[0;32m5\u001b[0m\n\u001b[0;31m    \u001b[0m\n\u001b[0m    ^\u001b[0m\n\u001b[0;31mIndentationError\u001b[0m\u001b[0;31m:\u001b[0m expected an indented block\n"
     ]
    }
   ],
   "source": [
    "def plot_grid(shape, stat, titles):\n",
    "    id = shape[0]*10+shape[1]\n",
    "    l = shape[0]*shape[1]\n",
    "    for i in range(1,l+1):\n",
    "        "
   ]
  },
  {
   "cell_type": "markdown",
   "metadata": {
    "deletable": true,
    "editable": true
   },
   "source": [
    "## Training"
   ]
  },
  {
   "cell_type": "markdown",
   "metadata": {
    "deletable": true,
    "editable": true
   },
   "source": [
    "## Part1 ( на изображениях из MNIST с различными шумами)"
   ]
  },
  {
   "cell_type": "markdown",
   "metadata": {
    "deletable": true,
    "editable": true
   },
   "source": [
    "### Описание:\n",
    "batches1 - batches5 - изображения из датасета MNIST с различными шумами ( в каждом - некоторый фиксированный случайный набор пар пикселей, в каждой паре пиксели меняются местами )."
   ]
  },
  {
   "cell_type": "markdown",
   "metadata": {
    "deletable": true,
    "editable": true
   },
   "source": [
    "Сеть - с двумя скрытыми слоями без байесов, активации - ReLU."
   ]
  },
  {
   "cell_type": "markdown",
   "metadata": {
    "deletable": true,
    "editable": true
   },
   "source": [
    "Сеть последовательно обучается на батчах из batches1 - batches5, в поцессе обучения сети измеряется точность классификаци на batches1 - batches5."
   ]
  },
  {
   "cell_type": "markdown",
   "metadata": {
    "deletable": true,
    "editable": true
   },
   "source": [
    "В одном случае мы просто обучаем сеть последовательно, без исползования EWC, a во втором случае после окончания тренировке на одной задаче, происходит обновление коэффициетнов матрицы Фишера и равновесных весов по формуле: "
   ]
  },
  {
   "cell_type": "markdown",
   "metadata": {
    "deletable": true,
    "editable": true
   },
   "source": [
    "$$\n",
    "F_{i+1} = 0.3 \\cdot F_{new} + 0.7 \\cdot F_i\n",
    "$$"
   ]
  },
  {
   "cell_type": "markdown",
   "metadata": {
    "deletable": true,
    "editable": true
   },
   "source": [
    "$$\n",
    "h_{e(i+1)} = h_{i}\n",
    "$$"
   ]
  },
  {
   "cell_type": "markdown",
   "metadata": {
    "deletable": true,
    "editable": true
   },
   "source": [
    "Выполним несколько прогонов, последовательно уменьшая колличество нейронов на скрытых слоях в два раза."
   ]
  },
  {
   "cell_type": "markdown",
   "metadata": {
    "deletable": true,
    "editable": true
   },
   "source": [
    "(l1, l2) - колличество нейронов на первом и втором скрытом слое."
   ]
  },
  {
   "cell_type": "code",
   "execution_count": 53,
   "metadata": {
    "collapsed": false,
    "deletable": true,
    "editable": true
   },
   "outputs": [],
   "source": [
    "experiment_1 = [\n",
    "    [(128,128), batches, permutations, {'EWC' : False}, {'title' : \"Fig.1. (l1 = 128, l2 = 128) without EWC\"}],\n",
    "    [(128,128), batches, permutations, {'EWC' : True},  {'title' : \"Fig.1e. (l1 = 128, l2 = 128) with EWC\"  }],\n",
    "    [(64,64),   batches, permutations, {'EWC' : False}, {'title' : \"Fig.2. (l1 = 64, l2 = 64) without EWC\"  }],\n",
    "    [(64,64),   batches, permutations, {'EWC' : True},  {'title' : \"Fig.2e. (l1 = 64, l2 = 64) with EWC\"    }],\n",
    "    [(32,32),   batches, permutations, {'EWC' : False}, {'title' : \"Fig.3. (l1 = 32, l2 = 64) without EWC\"  }],\n",
    "    [(32,32),   batches, permutations, {'EWC' : True},  {'title' : \"Fig.3e. (l1 = 32, l2 = 32) with EWC\"    }]\n",
    "]\n",
    "\n",
    "sess = tf.Session()\n",
    "\n",
    "def execute(experiments, plot_func):\n",
    "    dims = (2, len(experiments)/2)\n",
    "    stats = []\n",
    "    \n",
    "    for e in experiments:\n",
    "        model = Model(e[0][0],e[0][1])\n",
    "        sess.run(model.init)\n",
    "        stats.append(train(sess, model, e[1], e[2], e[3]['EWC']))\n",
    "    \n",
    "    for s in stats:\n",
    "        plot_func(s, e[4]['title'])\n",
    "\n",
    "    return stats"
   ]
  },
  {
   "cell_type": "code",
   "execution_count": 135,
   "metadata": {
    "collapsed": false,
    "deletable": true,
    "editable": true
   },
   "outputs": [
    {
     "name": "stdout",
     "output_type": "stream",
     "text": [
      "  [TL] InputLayer  input_layer: (?, 784)\n",
      "  [TL] DenseLayer  relu1: 64 relu\n",
      "  [TL] DenseLayer  relu2: 64 relu\n",
      "  [TL] DenseLayer  output_layer: 10 identity\n"
     ]
    }
   ],
   "source": [
    "model = Model([784,64,64,10],{'l1':0.0,'l2':0.0,'ewc':1e15})\n",
    "sess = tf.Session(graph=model.graph)\n",
    "sess.run(model.init)"
   ]
  },
  {
   "cell_type": "code",
   "execution_count": 123,
   "metadata": {
    "collapsed": false
   },
   "outputs": [
    {
     "name": "stdout",
     "output_type": "stream",
     "text": [
      "relu1\n",
      "<tf.Variable 'relu1/W:0' shape=(784, 64) dtype=float32_ref>\n",
      "relu2\n",
      "<tf.Variable 'relu2/W:0' shape=(64, 64) dtype=float32_ref>\n",
      "output_layer\n",
      "<tf.Variable 'output_layer/W:0' shape=(64, 10) dtype=float32_ref>\n"
     ]
    }
   ],
   "source": []
  },
  {
   "cell_type": "code",
   "execution_count": null,
   "metadata": {
    "collapsed": false,
    "deletable": true,
    "editable": true
   },
   "outputs": [],
   "source": [
    "data = train(model, batches[0:3], permutations, EWC=True)"
   ]
  },
  {
   "cell_type": "code",
   "execution_count": 134,
   "metadata": {
    "collapsed": false
   },
   "outputs": [
    {
     "data": {
      "image/png": "[encoded data removed]",
      "text/plain": [
       "<matplotlib.figure.Figure at 0x7fb0235fdf50>"
      ]
     },
     "metadata": {},
     "output_type": "display_data"
    },
    {
     "data": {
      "text/plain": [
       "[None]"
      ]
     },
     "execution_count": 134,
     "metadata": {},
     "output_type": "execute_result"
    }
   ],
   "source": [
    "[plot(data,\"fsf\")]"
   ]
  },
  {
   "cell_type": "code",
   "execution_count": 102,
   "metadata": {
    "collapsed": false
   },
   "outputs": [
    {
     "data": {
      "text/plain": [
       "array([[-0.1138856 , -0.12163977,  0.12773289, ...,  0.05520446,\n",
       "         0.05215881,  0.15667765],\n",
       "       [ 0.07497155,  0.01275101, -0.05353159, ...,  0.01882224,\n",
       "         0.01255315,  0.21217173],\n",
       "       [ 0.09473323,  0.03398017, -0.14138582, ...,  0.04933274,\n",
       "        -0.01419059, -0.06548911],\n",
       "       ..., \n",
       "       [-0.02933829,  0.16852745,  0.11347064, ...,  0.0068139 ,\n",
       "        -0.03304254, -0.12501816],\n",
       "       [ 0.1773805 ,  0.08222473, -0.04592405, ...,  0.02282516,\n",
       "         0.08173807, -0.10107686],\n",
       "       [-0.06331928, -0.0057484 , -0.07647497, ..., -0.00408671,\n",
       "        -0.06389525, -0.09488358]], dtype=float32)"
      ]
     },
     "execution_count": 102,
     "metadata": {},
     "output_type": "execute_result"
    }
   ],
   "source": [
    "sess.run(model.network.all_params[0])"
   ]
  },
  {
   "cell_type": "markdown",
   "metadata": {
    "deletable": true,
    "editable": true
   },
   "source": [
    "# Выводы"
   ]
  },
  {
   "cell_type": "markdown",
   "metadata": {
    "collapsed": false,
    "deletable": true,
    "editable": true
   },
   "source": [
    "Техника EWC, предложенная DeepMind, позволяет эффективно бороться с забыванием нейросетями старых задач в процессе обучения новым. Это достигается путем избирательного ограничение learning rate на весах, играющих важную роль в решении предыдущих задач.\n"
   ]
  },
  {
   "cell_type": "markdown",
   "metadata": {
    "deletable": true,
    "editable": true
   },
   "source": [
    "С уменьшением колличества нейронов на скрытых слоях уменьшается способность модели с EWC эффективно выучивать большое колличество задач."
   ]
  },
  {
   "cell_type": "markdown",
   "metadata": {
    "deletable": true,
    "editable": true
   },
   "source": [
    "## Part 2 ( на изображениях различных цифр)"
   ]
  },
  {
   "cell_type": "code",
   "execution_count": null,
   "metadata": {
    "collapsed": true,
    "deletable": true,
    "editable": true
   },
   "outputs": [],
   "source": []
  },
  {
   "cell_type": "code",
   "execution_count": null,
   "metadata": {
    "collapsed": true,
    "deletable": true,
    "editable": true
   },
   "outputs": [],
   "source": []
  },
  {
   "cell_type": "code",
   "execution_count": null,
   "metadata": {
    "collapsed": true,
    "deletable": true,
    "editable": true
   },
   "outputs": [],
   "source": []
  },
  {
   "cell_type": "code",
   "execution_count": null,
   "metadata": {
    "collapsed": true,
    "deletable": true,
    "editable": true
   },
   "outputs": [],
   "source": []
  },
  {
   "cell_type": "code",
   "execution_count": null,
   "metadata": {
    "collapsed": true,
    "deletable": true,
    "editable": true
   },
   "outputs": [],
   "source": []
  },
  {
   "cell_type": "code",
   "execution_count": null,
   "metadata": {
    "collapsed": true,
    "deletable": true,
    "editable": true
   },
   "outputs": [],
   "source": []
  },
  {
   "cell_type": "code",
   "execution_count": null,
   "metadata": {
    "collapsed": true,
    "deletable": true,
    "editable": true
   },
   "outputs": [],
   "source": []
  },
  {
   "cell_type": "code",
   "execution_count": null,
   "metadata": {
    "collapsed": true,
    "deletable": true,
    "editable": true
   },
   "outputs": [],
   "source": []
  },
  {
   "cell_type": "code",
   "execution_count": null,
   "metadata": {
    "collapsed": true,
    "deletable": true,
    "editable": true
   },
   "outputs": [],
   "source": []
  },
  {
   "cell_type": "code",
   "execution_count": null,
   "metadata": {
    "collapsed": true,
    "deletable": true,
    "editable": true
   },
   "outputs": [],
   "source": []
  },
  {
   "cell_type": "code",
   "execution_count": null,
   "metadata": {
    "collapsed": true,
    "deletable": true,
    "editable": true
   },
   "outputs": [],
   "source": []
  },
  {
   "cell_type": "code",
   "execution_count": null,
   "metadata": {
    "collapsed": true,
    "deletable": true,
    "editable": true
   },
   "outputs": [],
   "source": []
  },
  {
   "cell_type": "code",
   "execution_count": null,
   "metadata": {
    "collapsed": true,
    "deletable": true,
    "editable": true
   },
   "outputs": [],
   "source": []
  },
  {
   "cell_type": "code",
   "execution_count": null,
   "metadata": {
    "collapsed": true,
    "deletable": true,
    "editable": true
   },
   "outputs": [],
   "source": []
  },
  {
   "cell_type": "code",
   "execution_count": null,
   "metadata": {
    "collapsed": true,
    "deletable": true,
    "editable": true
   },
   "outputs": [],
   "source": []
  },
  {
   "cell_type": "code",
   "execution_count": null,
   "metadata": {
    "collapsed": true,
    "deletable": true,
    "editable": true
   },
   "outputs": [],
   "source": []
  },
  {
   "cell_type": "code",
   "execution_count": null,
   "metadata": {
    "collapsed": true,
    "deletable": true,
    "editable": true
   },
   "outputs": [],
   "source": []
  }
 ],
 "metadata": {
  "kernelspec": {
   "display_name": "Python 2",
   "language": "python",
   "name": "python2"
  },
  "language_info": {
   "codemirror_mode": {
    "name": "ipython",
    "version": 2
   },
   "file_extension": ".py",
   "mimetype": "text/x-python",
   "name": "python",
   "nbconvert_exporter": "python",
   "pygments_lexer": "ipython2",
   "version": "2.7.12"
  },
  "widgets": {
   "state": {
    "246991198c2b4b6bbdd00aa821bc3610": {
     "views": [
      {
       "cell_index": 60
      }
     ]
    }
   },
   "version": "1.2.0"
  }
 },
 "nbformat": 4,
 "nbformat_minor": 2
}
