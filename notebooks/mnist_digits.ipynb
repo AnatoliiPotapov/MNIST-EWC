{
 "cells": [
  {
   "cell_type": "code",
   "execution_count": 36,
   "metadata": {
    "collapsed": true,
    "deletable": true,
    "editable": true
   },
   "outputs": [],
   "source": [
    "from __future__ import print_function"
   ]
  },
  {
   "cell_type": "code",
   "execution_count": 37,
   "metadata": {
    "collapsed": true,
    "deletable": true,
    "editable": true
   },
   "outputs": [],
   "source": [
    "import numpy as np\n",
    "import tensorflow as tf\n",
    "import sys"
   ]
  },
  {
   "cell_type": "code",
   "execution_count": 38,
   "metadata": {
    "collapsed": false,
    "deletable": true,
    "editable": true
   },
   "outputs": [],
   "source": [
    "sys.path.append('../')\n",
    "from src import helpers as h\n",
    "from src import digit_batches as d"
   ]
  },
  {
   "cell_type": "code",
   "execution_count": 39,
   "metadata": {
    "collapsed": true
   },
   "outputs": [],
   "source": [
    "digits = d.Digits_batches([[1,2,3],[2,3,4],[3,4,1]], batch_size=128)"
   ]
  },
  {
   "cell_type": "code",
   "execution_count": 40,
   "metadata": {
    "collapsed": false
   },
   "outputs": [
    {
     "data": {
      "image/png": "[encoded data removed]",
      "text/plain": [
       "<matplotlib.figure.Figure at 0x7f7b93f62e90>"
      ]
     },
     "metadata": {},
     "output_type": "display_data"
    }
   ],
   "source": [
    "h.plot(digits.batches[0].next()[0])"
   ]
  },
  {
   "cell_type": "code",
   "execution_count": 41,
   "metadata": {
    "collapsed": false
   },
   "outputs": [],
   "source": [
    "from models import mlp_tensorlayer\n",
    "batch_size = 128"
   ]
  },
  {
   "cell_type": "code",
   "execution_count": 42,
   "metadata": {
    "collapsed": false
   },
   "outputs": [],
   "source": [
    "Model = mlp_tensorlayer.Model"
   ]
  },
  {
   "cell_type": "code",
   "execution_count": 43,
   "metadata": {
    "collapsed": true
   },
   "outputs": [],
   "source": [
    "def restore(sess):\n",
    "    ckpt = tf.train.get_checkpoint_state(os.path.dirname('checkpoint_directory/{}'.format(model_name)))\n",
    "    if ckpt and ckpt.model_checkpoint_path:\n",
    "        saver.restore(sess, ckpt.model_checkpoint_path)"
   ]
  },
  {
   "cell_type": "code",
   "execution_count": 44,
   "metadata": {
    "collapsed": true
   },
   "outputs": [],
   "source": [
    "max_steps = 3001\n",
    "period_print = 500\n",
    "period_stat = 100\n",
    "\n",
    "def train(model, batches_list, data = None, EWC = False, stat = False):\n",
    "    \n",
    "    acc_track = [[] for i in range(len(data))]\n",
    "    \n",
    "    p = h.Progress(max_steps*len(batches_list))\n",
    "    pr = 0\n",
    "    \n",
    "    for ind, batches in enumerate(batches_list):\n",
    "        #print(\"Training on batches{0}\\n\".format(ind+1))\n",
    "        try:\n",
    "            for step in range(max_steps):\n",
    "                \n",
    "                pr = pr+1\n",
    "                p.update(pr)\n",
    "                \n",
    "                X, y = batches.next()\n",
    "                train_d = {model.x : X, model.y_ : y}\n",
    "\n",
    "                if EWC ==  False:\n",
    "                    _ = sess.run(model.train_op, feed_dict=train_d)\n",
    "                if EWC ==  True:\n",
    "                    _ = sess.run(model.train_op_ewc, feed_dict=train_d)\n",
    "\n",
    "                if step % period_stat == 0:\n",
    "                    for i, d in enumerate(data):\n",
    "                        acc_track[i].append(test_acc(model, d[0], d[1]))\n",
    "\n",
    "\n",
    "                if (step % period_print == 0) and (stat == True):\n",
    "                    test_d = {model.tf_x : X, model.tf_y : y}\n",
    "                    l,ll, train_pred = sess.run([model.cost, model.ewc_cost, model.pred], feed_dict=test_d)\n",
    "                    print(\n",
    "                        \"Step {0}: \\n loss: {1} {2} \\n minibatch acc: {3}% \\n\".format(\n",
    "                            step,\n",
    "                            l,\n",
    "                            ll,\n",
    "                            accuracy(train_pred, y)\n",
    "                        )\n",
    "                    )\n",
    "            set_constraint(model, X, y)\n",
    "\n",
    "        except KeyboardInterrupt:\n",
    "            set_constraint(model, X, y)\n",
    "            print('training interrupted')\n",
    "\n",
    "    return acc_track"
   ]
  },
  {
   "cell_type": "code",
   "execution_count": 45,
   "metadata": {
    "collapsed": true
   },
   "outputs": [],
   "source": [
    "def test_acc(model, X, y):\n",
    "    test_d = {model.x : X, model.y_ : y}\n",
    "    accuracy = sess.run([model.acc], feed_dict=test_d)\n",
    "    return accuracy           "
   ]
  },
  {
   "cell_type": "code",
   "execution_count": 46,
   "metadata": {
    "collapsed": true
   },
   "outputs": [],
   "source": [
    "def get_gradient(model, batches):\n",
    "    X, y = batches.next()\n",
    "    test_d = {model.x : X, model.y_ : y}\n",
    "    gradient = sess.run([model.grads], feed_dict=test_d)\n",
    "    return gradient"
   ]
  },
  {
   "cell_type": "code",
   "execution_count": 47,
   "metadata": {
    "collapsed": true
   },
   "outputs": [],
   "source": [
    "# Привязать к данным\n",
    "def set_constraint(model, X, y):\n",
    "    # Вычисляем Градиент по весам\n",
    "    test_d = {model.x : X, model.y_ : y}\n",
    "    g = sess.run([model.grads], feed_dict=test_d)\n",
    "\n",
    "    for i, m in enumerate(model.network.all_params):\n",
    "        name = m.name.split(\"/\")[0]\n",
    "        grad, w = g[0][i]\n",
    "        \n",
    "        with sess.as_default():\n",
    "            model.f[name].assign(0.3 * np.square(grad) + 0.7 * model.f[name].eval()).eval()\n",
    "            model.w[name].assign(w).eval()"
   ]
  },
  {
   "cell_type": "code",
   "execution_count": 48,
   "metadata": {
    "collapsed": true
   },
   "outputs": [],
   "source": [
    "def plot(acc_track, title):\n",
    "    %matplotlib inline\n",
    "    import matplotlib.pyplot as plt\n",
    "    plt.rc(\"font\", size=10)\n",
    "    fig = plt.figure()\n",
    "    fig.suptitle(title, fontsize=14)\n",
    "    axes = plt.gca()\n",
    "    axes.set_ylim([0,100])\n",
    "    l = len(acc_track[0])\n",
    "    for ind, acc in enumerate(acc_track):\n",
    "        plt.plot(range(l), np.multiply(acc_track[ind],100.0), label='Batches {0}'.format(ind))\n",
    "\n",
    "    plt.ylabel('accuracy, %')\n",
    "    plt.xlabel('number of training batches x100')\n",
    "    plt.legend(loc=4, borderaxespad=0.)\n",
    "    plt.show()"
   ]
  },
  {
   "cell_type": "code",
   "execution_count": 49,
   "metadata": {
    "collapsed": false
   },
   "outputs": [
    {
     "name": "stdout",
     "output_type": "stream",
     "text": [
      "  [TL] InputLayer  input_layer: (?, 784)\n",
      "  [TL] DenseLayer  relu1: 128 relu\n",
      "  [TL] DenseLayer  relu2: 128 relu\n",
      "  [TL] DenseLayer  output_layer: 10 identity\n"
     ]
    }
   ],
   "source": [
    "model = Model([784,128,128,10],{'l1':0.0,'l2':0.0,'ewc':0.0}, activation = 'relu')\n",
    "sess = tf.Session(graph=model.graph)\n",
    "sess.run(model.init)\n",
    "data = []"
   ]
  },
  {
   "cell_type": "code",
   "execution_count": 50,
   "metadata": {
    "collapsed": true
   },
   "outputs": [],
   "source": [
    "data.append(train(model, digits.batches, digits.data, EWC=False))"
   ]
  },
  {
   "cell_type": "code",
   "execution_count": 51,
   "metadata": {
    "collapsed": false
   },
   "outputs": [
    {
     "data": {
      "image/png": "[encoded data removed]",
      "text/plain": [
       "<matplotlib.figure.Figure at 0x7f7b7f71b450>"
      ]
     },
     "metadata": {},
     "output_type": "display_data"
    }
   ],
   "source": [
    "plot(data[0], \"Fig.1a. (5,5) on old batches without EWC\")"
   ]
  },
  {
   "cell_type": "code",
   "execution_count": 54,
   "metadata": {
    "collapsed": false
   },
   "outputs": [
    {
     "name": "stdout",
     "output_type": "stream",
     "text": [
      "  [TL] InputLayer  input_layer: (?, 784)\n",
      "  [TL] DenseLayer  relu1: 256 sigmoid\n",
      "  [TL] DenseLayer  relu2: 256 sigmoid\n",
      "  [TL] DenseLayer  relu3: 128 sigmoid\n",
      "  [TL] DenseLayer  relu4: 64 sigmoid\n",
      "  [TL] DenseLayer  output_layer: 10 identity\n"
     ]
    }
   ],
   "source": [
    "model = Model([784,256,256,128,64,10],{'l1':0.01,'l2':0.0,'ewc':1e20}, activation='sigmoid')\n",
    "sess = tf.Session(graph=model.graph)\n",
    "sess.run(model.init)\n",
    "data2 = []"
   ]
  },
  {
   "cell_type": "code",
   "execution_count": 55,
   "metadata": {
    "collapsed": false
   },
   "outputs": [],
   "source": [
    "data2.append(train(model, digits.batches, digits.data, EWC=True))"
   ]
  },
  {
   "cell_type": "code",
   "execution_count": 56,
   "metadata": {
    "collapsed": false
   },
   "outputs": [
    {
     "data": {
      "image/png": "[encoded data removed]",
      "text/plain": [
       "<matplotlib.figure.Figure at 0x7f7b7c160750>"
      ]
     },
     "metadata": {},
     "output_type": "display_data"
    }
   ],
   "source": [
    "plot(data2[0], \"Fig.1a. (5,5) on old batches without EWC\")"
   ]
  },
  {
   "cell_type": "markdown",
   "metadata": {},
   "source": [
    "Yyyyeah!"
   ]
  },
  {
   "cell_type": "code",
   "execution_count": null,
   "metadata": {
    "collapsed": true
   },
   "outputs": [],
   "source": []
  }
 ],
 "metadata": {
  "kernelspec": {
   "display_name": "Python 2",
   "language": "python",
   "name": "python2"
  },
  "language_info": {
   "codemirror_mode": {
    "name": "ipython",
    "version": 2
   },
   "file_extension": ".py",
   "mimetype": "text/x-python",
   "name": "python",
   "nbconvert_exporter": "python",
   "pygments_lexer": "ipython2",
   "version": "2.7.12"
  },
  "widgets": {
   "state": {
    "171e7fdb368e4962a8dc2bff9f8c3ef4": {
     "views": [
      {
       "cell_index": 14
      }
     ]
    },
    "2ab12bf8321a41b9a996e68066c3a525": {
     "views": [
      {
       "cell_index": 17
      }
     ]
    }
   },
   "version": "1.2.0"
  }
 },
 "nbformat": 4,
 "nbformat_minor": 2
}
