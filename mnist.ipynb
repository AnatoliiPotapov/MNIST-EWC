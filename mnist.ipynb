{
 "cells": [
  {
   "cell_type": "code",
   "execution_count": 135,
   "metadata": {
    "collapsed": true,
    "deletable": true,
    "editable": true
   },
   "outputs": [],
   "source": [
    "from __future__ import print_function"
   ]
  },
  {
   "cell_type": "code",
   "execution_count": 136,
   "metadata": {
    "collapsed": true,
    "deletable": true,
    "editable": true
   },
   "outputs": [],
   "source": [
    "import numpy as np\n",
    "import tensorflow as tf"
   ]
  },
  {
   "cell_type": "code",
   "execution_count": 137,
   "metadata": {
    "collapsed": false,
    "deletable": true,
    "editable": true
   },
   "outputs": [
    {
     "name": "stdout",
     "output_type": "stream",
     "text": [
      "Found and verified data/mnist.pkl.gz\n"
     ]
    }
   ],
   "source": [
    "import os \n",
    "import sys\n",
    "import gzip\n",
    "import pickle\n",
    "from urllib import urlretrieve\n",
    "\n",
    "def maybe_download(filename, expected_bytes, force=False):\n",
    "    \"\"\"Download a file if not present, and make sure it's the right size.\"\"\"\n",
    "    dest_filename = os.path.join(data_root, filename)\n",
    "    if force or not os.path.exists(dest_filename):\n",
    "        print('Attempting to download:', filename) \n",
    "        filename, _ = urlretrieve(url + filename, dest_filename)\n",
    "        print('\\nDownload Complete!')\n",
    "    \n",
    "    statinfo = os.stat(dest_filename)\n",
    "    if statinfo.st_size == expected_bytes:\n",
    "        print('Found and verified', dest_filename)\n",
    "    else:\n",
    "        raise Exception(\n",
    "            'Failed to verify ' + dest_filename + '. Can you get to it with a browser?')\n",
    "    return dest_filename\n",
    "\n",
    "data_root = 'data/'\n",
    "url = 'http://deeplearning.net/data/mnist/'\n",
    "train_filename = maybe_download('mnist.pkl.gz', 16168813)"
   ]
  },
  {
   "cell_type": "code",
   "execution_count": 138,
   "metadata": {
    "collapsed": false,
    "deletable": true,
    "editable": true
   },
   "outputs": [],
   "source": [
    "with gzip.open('data/mnist.pkl.gz', 'rb') as f:\n",
    "    (X_train, y_train), (X_val, y_val), (X_test, y_test) =  pickle.load(f)"
   ]
  },
  {
   "cell_type": "code",
   "execution_count": 139,
   "metadata": {
    "collapsed": false,
    "deletable": true,
    "editable": true
   },
   "outputs": [
    {
     "data": {
      "image/png": "[encoded data removed]",
      "text/plain": [
       "<matplotlib.figure.Figure at 0x7fa16fabaa90>"
      ]
     },
     "metadata": {},
     "output_type": "display_data"
    }
   ],
   "source": [
    "import matplotlib.pyplot as plt\n",
    "# plot 4 images as gray scale\n",
    "plt.subplot(221)\n",
    "plt.imshow(X_train[0].reshape(28,28), cmap=plt.get_cmap('gray'))\n",
    "plt.subplot(222)\n",
    "plt.imshow(X_train[1].reshape(28,28), cmap=plt.get_cmap('gray'))\n",
    "plt.subplot(223)\n",
    "plt.imshow(X_train[2].reshape(28,28), cmap=plt.get_cmap('gray'))\n",
    "plt.subplot(224)\n",
    "plt.imshow(X_train[3].reshape(28,28), cmap=plt.get_cmap('gray'))\n",
    "# show the plot\n",
    "plt.show()"
   ]
  },
  {
   "cell_type": "markdown",
   "metadata": {
    "deletable": true,
    "editable": true
   },
   "source": [
    "# Задача"
   ]
  },
  {
   "cell_type": "markdown",
   "metadata": {
    "deletable": true,
    "editable": true
   },
   "source": [
    "Разобьем датасет на три части, в одной только 1,2,3 в других соответственно 4,5,6 и 7,8,9. Задача продемонстрировать, что при последвотальном обучении сеть \"разучивается\" выполнять предыдущие задачи, а с EWC - существенно меньше."
   ]
  },
  {
   "cell_type": "code",
   "execution_count": 140,
   "metadata": {
    "collapsed": false,
    "deletable": true,
    "editable": true
   },
   "outputs": [],
   "source": [
    "rows = np.concatenate((\n",
    "    np.where(y_train == 1),\n",
    "    np.where(y_train == 2),\n",
    "    np.where(y_train == 3)), axis = 1)\n",
    "\n",
    "T1_X = X_train[rows,:].reshape((len(rows[0]),X_train.shape[1]))\n",
    "T1_y = y_train[rows].reshape(len(rows[0]))"
   ]
  },
  {
   "cell_type": "code",
   "execution_count": 141,
   "metadata": {
    "collapsed": false,
    "deletable": true,
    "editable": true
   },
   "outputs": [],
   "source": [
    "rows = np.concatenate((\n",
    "    np.where(y_train == 4),\n",
    "    np.where(y_train == 5),\n",
    "    np.where(y_train == 6)), axis = 1)\n",
    "\n",
    "T2_X = X_train[rows,:].reshape((len(rows[0]),X_train.shape[1]))\n",
    "T2_y = y_train[rows].reshape(len(rows[0]))"
   ]
  },
  {
   "cell_type": "code",
   "execution_count": 142,
   "metadata": {
    "collapsed": false,
    "deletable": true,
    "editable": true
   },
   "outputs": [],
   "source": [
    "rows = np.concatenate((\n",
    "    np.where(y_train == 7),\n",
    "    np.where(y_train == 8),\n",
    "    np.where(y_train == 9)), axis = 1)\n",
    "\n",
    "T3_X = X_train[rows,:].reshape((len(rows[0]),X_train.shape[1]))\n",
    "T3_y = y_train[rows].reshape(len(rows[0]))"
   ]
  },
  {
   "cell_type": "markdown",
   "metadata": {
    "deletable": true,
    "editable": true
   },
   "source": [
    "### Y - to one hot"
   ]
  },
  {
   "cell_type": "code",
   "execution_count": 143,
   "metadata": {
    "collapsed": false,
    "deletable": true,
    "editable": true
   },
   "outputs": [
    {
     "name": "stdout",
     "output_type": "stream",
     "text": [
      "Training set (15747, 784) (15747, 10)\n",
      "Validation set (14316, 784) (14316, 10)\n",
      "Test set (15005, 784) (15005, 10)\n"
     ]
    }
   ],
   "source": [
    "image_size = 28\n",
    "num_labels = 10\n",
    "\n",
    "def reformat(dataset, labels):\n",
    "    labels = (np.arange(num_labels) == labels[:,None]).astype(np.float32)\n",
    "    return dataset, labels\n",
    "\n",
    "T1_X, T1_y = reformat(T1_X, T1_y)\n",
    "T2_X, T2_y = reformat(T2_X, T2_y)\n",
    "T3_X, T3_y = reformat(T3_X, T3_y)\n",
    "\n",
    "print('Training set', T1_X.shape, T1_y.shape)\n",
    "print('Validation set', T2_X.shape, T2_y.shape)\n",
    "print('Test set', T3_X.shape, T3_y.shape)"
   ]
  },
  {
   "cell_type": "code",
   "execution_count": 144,
   "metadata": {
    "collapsed": false,
    "deletable": true,
    "editable": true
   },
   "outputs": [
    {
     "name": "stdout",
     "output_type": "stream",
     "text": [
      "(10000, 784) (10000, 10)\n"
     ]
    }
   ],
   "source": [
    "X_val, y_val  = reformat(X_val, y_val.reshape(10000,))\n",
    "print(X_val.shape, y_val.shape)"
   ]
  },
  {
   "cell_type": "code",
   "execution_count": 145,
   "metadata": {
    "collapsed": false
   },
   "outputs": [
    {
     "name": "stdout",
     "output_type": "stream",
     "text": [
      "(50000, 784) (50000, 10)\n"
     ]
    }
   ],
   "source": [
    "X_train, y_train  = reformat(X_train, y_train.reshape(50000,))\n",
    "print(X_train.shape, y_train.shape)"
   ]
  },
  {
   "cell_type": "markdown",
   "metadata": {
    "deletable": true,
    "editable": true
   },
   "source": [
    "# Tensorflow MLP"
   ]
  },
  {
   "cell_type": "code",
   "execution_count": 146,
   "metadata": {
    "collapsed": true,
    "deletable": true,
    "editable": true
   },
   "outputs": [],
   "source": [
    "hidden_nodes = 1024\n",
    "batch_size = 128"
   ]
  },
  {
   "cell_type": "code",
   "execution_count": 173,
   "metadata": {
    "collapsed": false,
    "deletable": true,
    "editable": true
   },
   "outputs": [],
   "source": [
    "nn_with_hidden_layer = tf.Graph()\n",
    "\n",
    "with nn_with_hidden_layer.as_default():\n",
    "    \n",
    "    # Network Parameters\n",
    "    n_hidden_1 = 128 # 1st layer number of features\n",
    "    n_hidden_2 = 128 # 2nd layer number of features\n",
    "    n_input = 784 # MNIST data input (img shape: 28*28)\n",
    "    n_classes = 10 # MNIST total classes (0-9 digits)\n",
    "    \n",
    "    \n",
    "    # tf Graph input\n",
    "    tf_x = tf.placeholder(\"float\", [None, n_input])\n",
    "    tf_y = tf.placeholder(\"float\", [None, n_classes])\n",
    "    ewc = tf.constant(1e15)\n",
    "    l = tf.constant(0.0)\n",
    "    \n",
    "    # Create model\n",
    "    def multilayer_perceptron(x, weights):\n",
    "        # Hidden layer with RELU activation\n",
    "        layer_1 = tf.matmul(x, weights['h1'])\n",
    "        layer_1 = tf.nn.relu(layer_1)\n",
    "        # Hidden layer with RELU activation\n",
    "        layer_2 = tf.matmul(layer_1, weights['h2'])\n",
    "        layer_2 = tf.nn.relu(layer_2)\n",
    "        # Output layer with linear activation\n",
    "        out_layer = tf.matmul(layer_2, weights['out'])\n",
    "        return out_layer\n",
    "\n",
    "    # Store layers weight\n",
    "    weights = {\n",
    "        'h1': tf.Variable(tf.random_normal([n_input, n_hidden_1])),\n",
    "        'h1e': tf.Variable(tf.random_normal([n_input, n_hidden_1]), trainable=False),\n",
    "        'h2': tf.Variable(tf.random_normal([n_hidden_1, n_hidden_2])),\n",
    "        'h2e': tf.Variable(tf.random_normal([n_hidden_1, n_hidden_2]), trainable=False),\n",
    "        'out': tf.Variable(tf.random_normal([n_hidden_2, n_classes])),\n",
    "        'oute': tf.Variable(tf.random_normal([n_hidden_2, n_classes]), trainable=False)\n",
    "    }\n",
    "    \n",
    "    fisher = {\n",
    "        'h1': tf.Variable(tf.zeros([n_input, n_hidden_1])),\n",
    "        'h2': tf.Variable(tf.zeros([n_hidden_1, n_hidden_2])),\n",
    "        'out': tf.Variable(tf.zeros([n_hidden_2, n_classes]))\n",
    "    }\n",
    "\n",
    "    # Construct model\n",
    "    pred = multilayer_perceptron(tf_x, weights)\n",
    "\n",
    "    # Define loss and optimizer\n",
    "    cost = tf.reduce_mean(tf.nn.softmax_cross_entropy_with_logits(logits=pred, labels=tf_y)) \n",
    "    cost = cost + l*tf.nn.l2_loss(weights['h1']) + l*tf.nn.l2_loss(weights['h2']) + l*tf.nn.l2_loss(weights['out'])\n",
    "    optimizer = tf.train.AdamOptimizer(0.001)\n",
    "    minimize_cost = optimizer.minimize(cost) \n",
    "    grads = optimizer.compute_gradients(cost, [weights['h1'], weights['h2'], weights['out']]) \n",
    "    \n",
    "    ewc_cost = ewc * tf.nn.l2_loss(tf.multiply(fisher['h1'], tf.subtract(weights['h1'], weights['h1e'])))\n",
    "    ewc_cost = ewc_cost + ewc * tf.nn.l2_loss(tf.multiply(fisher['h2'], tf.subtract(weights['h2'], weights['h2e'])))\n",
    "    ewc_cost = ewc_cost + ewc * tf.nn.l2_loss(tf.multiply(fisher['out'], tf.subtract(weights['out'], weights['oute'])))\n",
    "    objective = cost + ewc_cost\n",
    "    minimize_cost_ewc = optimizer.minimize(objective)\n",
    "                               \n",
    "    # Initializing the variables\n",
    "    init = tf.global_variables_initializer()"
   ]
  },
  {
   "cell_type": "code",
   "execution_count": 148,
   "metadata": {
    "collapsed": false,
    "deletable": true,
    "editable": true
   },
   "outputs": [
    {
     "data": {
      "text/plain": [
       "[]"
      ]
     },
     "execution_count": 148,
     "metadata": {},
     "output_type": "execute_result"
    }
   ],
   "source": [
    "tf.trainable_variables()"
   ]
  },
  {
   "cell_type": "markdown",
   "metadata": {
    "deletable": true,
    "editable": true
   },
   "source": [
    "# Генератор батчей"
   ]
  },
  {
   "cell_type": "code",
   "execution_count": 149,
   "metadata": {
    "collapsed": false
   },
   "outputs": [],
   "source": [
    "var = 10\n",
    "n_perm = 100\n",
    "from_ind = [np.random.randint(low=0, high=784, size=n_perm) for i in range(var)]\n",
    "to_ind = [np.random.randint(low=0, high=784, size=n_perm) for i in range(var)]"
   ]
  },
  {
   "cell_type": "code",
   "execution_count": 150,
   "metadata": {
    "collapsed": false
   },
   "outputs": [],
   "source": [
    "def permutation(X_inp, perm):\n",
    "    X = np.copy(X_inp)\n",
    "    n, d = X.shape\n",
    "    a = from_ind[perm]\n",
    "    b = to_ind[perm]\n",
    "    for i in range(n_perm):\n",
    "        tmp = X[:,a[i]]\n",
    "        X[:,a[i]] = X[:,b[i]]\n",
    "        X[:,b[i]] = tmp\n",
    "    return X"
   ]
  },
  {
   "cell_type": "code",
   "execution_count": 151,
   "metadata": {
    "collapsed": true
   },
   "outputs": [],
   "source": [
    "import matplotlib.pyplot as plt\n",
    "def plot(X):# plot 4 images as gray scale\n",
    "    plt.subplot(221)\n",
    "    plt.imshow(X[0].reshape(28,28), cmap=plt.get_cmap('gray'))\n",
    "    plt.subplot(222)\n",
    "    plt.imshow(X[1].reshape(28,28), cmap=plt.get_cmap('gray'))\n",
    "    plt.subplot(223)\n",
    "    plt.imshow(X[2].reshape(28,28), cmap=plt.get_cmap('gray'))\n",
    "    plt.subplot(224)\n",
    "    plt.imshow(X[3].reshape(28,28), cmap=plt.get_cmap('gray'))\n",
    "    # show the plot\n",
    "    plt.show()"
   ]
  },
  {
   "cell_type": "code",
   "execution_count": 152,
   "metadata": {
    "collapsed": false,
    "deletable": true,
    "editable": true
   },
   "outputs": [
    {
     "name": "stdout",
     "output_type": "stream",
     "text": [
      "(128, 784) (128, 10)\n"
     ]
    }
   ],
   "source": [
    "batch_size = 128\n",
    "\n",
    "def batch_generator(X, y, batch_size):\n",
    "    l = X.shape[0]\n",
    "    def another():\n",
    "        indexes = np.random.randint(low=0, high=l, size=batch_size)\n",
    "        return [\n",
    "            X.take(indexes, axis=0),\n",
    "            y[indexes]\n",
    "        ]\n",
    "            \n",
    "    while True:\n",
    "        yield another()\n",
    "        \n",
    "    \n",
    "batches = batch_generator(X_train, y_train , batch_size=batch_size)\n",
    "x, y = batches.next()\n",
    "print(x.shape, y.shape)"
   ]
  },
  {
   "cell_type": "code",
   "execution_count": 153,
   "metadata": {
    "collapsed": false
   },
   "outputs": [
    {
     "data": {
      "image/png": "[encoded data removed]",
      "text/plain": [
       "<matplotlib.figure.Figure at 0x7fa16244f6d0>"
      ]
     },
     "metadata": {},
     "output_type": "display_data"
    }
   ],
   "source": [
    "X,y = batches.next()\n",
    "plot(X)"
   ]
  },
  {
   "cell_type": "markdown",
   "metadata": {
    "deletable": true,
    "editable": true
   },
   "source": [
    "# Обучение сети"
   ]
  },
  {
   "cell_type": "code",
   "execution_count": 154,
   "metadata": {
    "collapsed": false,
    "deletable": true,
    "editable": true
   },
   "outputs": [],
   "source": [
    "X1_train = permutation(X_train, 1)\n",
    "X2_train = permutation(X_train, 2)\n",
    "X3_train = permutation(X_train, 3)\n",
    "X4_train = permutation(X_train, 4)\n",
    "X5_train = permutation(X_train, 5)\n",
    "\n",
    "batches1 = batch_generator(X1_train, y_train , batch_size=batch_size)\n",
    "batches2 = batch_generator(X2_train, y_train , batch_size=batch_size)\n",
    "batches3 = batch_generator(X3_train, y_train , batch_size=batch_size)\n",
    "batches4 = batch_generator(X4_train, y_train , batch_size=batch_size)\n",
    "batches5 = batch_generator(X5_train, y_train , batch_size=batch_size)"
   ]
  },
  {
   "cell_type": "code",
   "execution_count": 155,
   "metadata": {
    "collapsed": false
   },
   "outputs": [
    {
     "data": {
      "image/png": "[encoded data removed]",
      "text/plain": [
       "<matplotlib.figure.Figure at 0x7fa1626192d0>"
      ]
     },
     "metadata": {},
     "output_type": "display_data"
    }
   ],
   "source": [
    "X, y = batches1.next()\n",
    "plot(X)"
   ]
  },
  {
   "cell_type": "code",
   "execution_count": 156,
   "metadata": {
    "collapsed": false
   },
   "outputs": [
    {
     "data": {
      "image/png": "[encoded data removed]",
      "text/plain": [
       "<matplotlib.figure.Figure at 0x7fa17e43a250>"
      ]
     },
     "metadata": {},
     "output_type": "display_data"
    }
   ],
   "source": [
    "X, y = batches2.next()\n",
    "plot(X)"
   ]
  },
  {
   "cell_type": "code",
   "execution_count": 174,
   "metadata": {
    "collapsed": true,
    "deletable": true,
    "editable": true
   },
   "outputs": [],
   "source": [
    "tf.reset_default_graph()\n",
    "sess = tf.Session(graph=nn_with_hidden_layer)"
   ]
  },
  {
   "cell_type": "code",
   "execution_count": 175,
   "metadata": {
    "collapsed": true,
    "deletable": true,
    "editable": true
   },
   "outputs": [],
   "source": [
    "def accuracy(predictions, labels):\n",
    "    return (100.0 * np.sum(np.argmax(predictions, 1) == np.argmax(labels, 1))\n",
    "                    / predictions.shape[0])"
   ]
  },
  {
   "cell_type": "code",
   "execution_count": 176,
   "metadata": {
    "collapsed": true,
    "deletable": true,
    "editable": true
   },
   "outputs": [],
   "source": [
    "def restore(sess):\n",
    "    ckpt = tf.train.get_checkpoint_state(os.path.dirname('checkpoint_directory/{}'.format(model_name)))\n",
    "    if ckpt and ckpt.model_checkpoint_path:\n",
    "        saver.restore(sess, ckpt.model_checkpoint_path)"
   ]
  },
  {
   "cell_type": "code",
   "execution_count": 183,
   "metadata": {
    "collapsed": true,
    "deletable": true,
    "editable": true
   },
   "outputs": [],
   "source": [
    "acc_track = [[],[],[]]"
   ]
  },
  {
   "cell_type": "code",
   "execution_count": 178,
   "metadata": {
    "collapsed": false,
    "deletable": true,
    "editable": true
   },
   "outputs": [],
   "source": [
    "sess.run(init)"
   ]
  },
  {
   "cell_type": "code",
   "execution_count": 179,
   "metadata": {
    "collapsed": false,
    "deletable": true,
    "editable": true
   },
   "outputs": [],
   "source": [
    "max_steps = 3001\n",
    "period_print = 500\n",
    "period_stat = 100\n",
    "\n",
    "def train(batches, EWC = False, resume = False):\n",
    "    try:\n",
    "        for step in range(max_steps):\n",
    "            \n",
    "            X, y = batches.next()\n",
    "            train_d = {tf_x : X, tf_y : y}\n",
    "            \n",
    "            if EWC ==  False:\n",
    "                _ = sess.run(minimize_cost, feed_dict=train_d)\n",
    "            if EWC ==  True:\n",
    "                _ = sess.run(minimize_cost_ewc, feed_dict=train_d)\n",
    "            \n",
    "            if step % period_stat == 0:\n",
    "                acc_track[0].append(test_acc(X1_train, y_train))\n",
    "                acc_track[1].append(test_acc(X2_train, y_train))\n",
    "                acc_track[2].append(test_acc(X3_train, y_train))     \n",
    "            \n",
    "            if step % period_print == 0:\n",
    "                test_d = {tf_x : X, tf_y : y}\n",
    "                l,ll, train_pred = sess.run([cost, ewc_cost, pred], feed_dict=test_d)\n",
    "                print(\n",
    "                    \"Step {0}: \\n loss: {1} {2} \\n minibatch acc: {3}% \\n\".format(\n",
    "                        step,\n",
    "                        l,\n",
    "                        ll,\n",
    "                        accuracy(train_pred, y)\n",
    "                    )\n",
    "                )\n",
    "        set_constraint(X, y)\n",
    "            \n",
    "            \n",
    "            \n",
    "    except KeyboardInterrupt:\n",
    "        set_constraint(X, y)\n",
    "        print('training interrupted')\n",
    "        \n",
    "\n",
    "    \n"
   ]
  },
  {
   "cell_type": "code",
   "execution_count": 180,
   "metadata": {
    "collapsed": false,
    "deletable": true,
    "editable": true
   },
   "outputs": [],
   "source": [
    "def test_acc(X, y):\n",
    "    #X, y = batches.next()\n",
    "    test_d = {tf_x : X, tf_y : y}\n",
    "    prediction = sess.run([pred], feed_dict=test_d)\n",
    "    return accuracy(prediction[0], y)              "
   ]
  },
  {
   "cell_type": "code",
   "execution_count": 181,
   "metadata": {
    "collapsed": true,
    "deletable": true,
    "editable": true
   },
   "outputs": [],
   "source": [
    "def get_gradient(batches):\n",
    "    X, y = batches.next()\n",
    "    test_d = {tf_x : X, tf_y : y}\n",
    "    gradient = sess.run([grads], feed_dict=test_d)\n",
    "    return gradient"
   ]
  },
  {
   "cell_type": "code",
   "execution_count": 182,
   "metadata": {
    "collapsed": false,
    "deletable": true,
    "editable": true
   },
   "outputs": [],
   "source": [
    "# Привязать к данным\n",
    "def set_constraint(X, y):\n",
    "    # Вычисляем Градиент по весам\n",
    "    test_d = {tf_x : X, tf_y : y}\n",
    "    g = sess.run([grads], feed_dict=test_d)\n",
    "    #return gradient\n",
    "    g1, w1 = g[0][0]\n",
    "    g2, w2 = g[0][1]\n",
    "    g3, w3 = g[0][2]\n",
    "    # Забираем старые матрицы фишера\n",
    "    # Возводим в квадрат\n",
    "    with sess.as_default():\n",
    "        f1 = 0.3 * np.square(g1) + 0.7 * fisher['h1'].eval()\n",
    "        f2 = 0.3 * np.square(g2) + 0.7 * fisher['h2'].eval()\n",
    "        f3 = 0.3 * np.square(g3) + 0.7 * fisher['out'].eval()\n",
    "\n",
    "    print(np.max(f1),np.max(f2),np.max(f3))\n",
    "    with sess.as_default():\n",
    "        # Обновляем коэффициенты матрицы фишера в графе\n",
    "        fisher['h1'].assign(f1).eval()\n",
    "        fisher['h2'].assign(f2).eval()\n",
    "        fisher['out'].assign(f3).eval()\n",
    "        # Обновляем центральные веса в графе\n",
    "        weights['h1e'].assign(w1).eval()\n",
    "        weights['h2e'].assign(w2).eval()\n",
    "        weights['oute'].assign(w3).eval()"
   ]
  },
  {
   "cell_type": "code",
   "execution_count": 166,
   "metadata": {
    "collapsed": false,
    "deletable": true,
    "editable": true
   },
   "outputs": [
    {
     "data": {
      "text/plain": [
       "array([[ 0.7,  0.7],\n",
       "       [ 0.7,  0.7]])"
      ]
     },
     "execution_count": 166,
     "metadata": {},
     "output_type": "execute_result"
    }
   ],
   "source": [
    "x = np.array([[1,1],[1,1]])\n",
    "x*0.7"
   ]
  },
  {
   "cell_type": "code",
   "execution_count": 167,
   "metadata": {
    "collapsed": false,
    "deletable": true,
    "editable": true
   },
   "outputs": [
    {
     "name": "stdout",
     "output_type": "stream",
     "text": [
      "Step 0: \n",
      " loss: 867.407775879 0.0 \n",
      " minibatch acc: 9.375% \n",
      "\n",
      "Step 500: \n",
      " loss: 23.3151988983 0.0 \n",
      " minibatch acc: 82.8125% \n",
      "\n",
      "Step 1000: \n",
      " loss: 23.0842437744 0.0 \n",
      " minibatch acc: 82.03125% \n",
      "\n",
      "Step 1500: \n",
      " loss: 8.08954143524 0.0 \n",
      " minibatch acc: 92.1875% \n",
      "\n",
      "Step 2000: \n",
      " loss: 10.05027771 0.0 \n",
      " minibatch acc: 86.71875% \n",
      "\n",
      "Step 2500: \n",
      " loss: 4.33657503128 0.0 \n",
      " minibatch acc: 95.3125% \n",
      "\n",
      "Step 3000: \n",
      " loss: 10.265709877 0.0 \n",
      " minibatch acc: 89.84375% \n",
      "\n",
      "0.0987083 0.248167 0.71592\n"
     ]
    }
   ],
   "source": [
    "train(batches1)"
   ]
  },
  {
   "cell_type": "code",
   "execution_count": 169,
   "metadata": {
    "collapsed": false
   },
   "outputs": [
    {
     "name": "stdout",
     "output_type": "stream",
     "text": [
      "Step 0: \n",
      " loss: 43.2355575562 15.4982700348 \n",
      " minibatch acc: 68.75% \n",
      "\n",
      "Step 500: \n",
      " loss: 8.29907131195 158482.515625 \n",
      " minibatch acc: 91.40625% \n",
      "\n",
      "Step 1000: \n",
      " loss: 10.0865850449 308281.875 \n",
      " minibatch acc: 89.0625% \n",
      "\n",
      "Step 1500: \n",
      " loss: 3.67209672928 452164.1875 \n",
      " minibatch acc: 95.3125% \n",
      "\n",
      "Step 2000: \n",
      " loss: 5.0077252388 601120.375 \n",
      " minibatch acc: 92.1875% \n",
      "\n",
      "Step 2500: \n",
      " loss: 3.75858354568 757182.6875 \n",
      " minibatch acc: 93.75% \n",
      "\n",
      "Step 3000: \n",
      " loss: 0.831790804863 905484.0 \n",
      " minibatch acc: 96.09375% \n",
      "\n",
      "0.0897405 0.293272 0.696225\n"
     ]
    }
   ],
   "source": [
    "train(batches2)"
   ]
  },
  {
   "cell_type": "code",
   "execution_count": 171,
   "metadata": {
    "collapsed": false
   },
   "outputs": [
    {
     "name": "stdout",
     "output_type": "stream",
     "text": [
      "Step 0: \n",
      " loss: 8.06819725037 8.9579334259 \n",
      " minibatch acc: 88.28125% \n",
      "\n",
      "Step 500: \n",
      " loss: 3.0419883728 150523.59375 \n",
      " minibatch acc: 95.3125% \n",
      "\n",
      "Step 1000: \n",
      " loss: 1.75832629204 261117.78125 \n",
      " minibatch acc: 96.09375% \n",
      "\n",
      "Step 1500: \n",
      " loss: 4.9792470932 376399.5625 \n",
      " minibatch acc: 89.84375% \n",
      "\n",
      "Step 2000: \n",
      " loss: 1.73116290569 489808.0625 \n",
      " minibatch acc: 98.4375% \n",
      "\n",
      "Step 2500: \n",
      " loss: 0.845830202103 596909.3125 \n",
      " minibatch acc: 97.65625% \n",
      "\n",
      "Step 3000: \n",
      " loss: 1.49890828133 704796.3125 \n",
      " minibatch acc: 93.75% \n",
      "\n",
      "0.0856484 0.288036 1.04299\n"
     ]
    }
   ],
   "source": [
    "train(batches3)"
   ]
  },
  {
   "cell_type": "code",
   "execution_count": null,
   "metadata": {
    "collapsed": false,
    "deletable": true,
    "editable": true
   },
   "outputs": [],
   "source": [
    "train(batches3, EWC=True)"
   ]
  },
  {
   "cell_type": "code",
   "execution_count": 172,
   "metadata": {
    "collapsed": false,
    "deletable": true,
    "editable": true
   },
   "outputs": [
    {
     "data": {
      "image/png": "[encoded data removed]",
      "text/plain": [
       "<matplotlib.figure.Figure at 0x7fa17e3ad510>"
      ]
     },
     "metadata": {},
     "output_type": "display_data"
    }
   ],
   "source": [
    "%matplotlib inline\n",
    "import matplotlib.pyplot as plt\n",
    "l = len(acc_track[0])\n",
    "plt.plot(range(l), acc_track[0])\n",
    "plt.plot(range(l), acc_track[1])\n",
    "plt.plot(range(l), acc_track[2])\n",
    "plt.show()\n"
   ]
  },
  {
   "cell_type": "code",
   "execution_count": 184,
   "metadata": {
    "collapsed": false
   },
   "outputs": [
    {
     "name": "stdout",
     "output_type": "stream",
     "text": [
      "Step 0: \n",
      " loss: 644.50793457 0.0 \n",
      " minibatch acc: 10.9375% \n",
      "\n",
      "Step 500: \n",
      " loss: 28.0239524841 0.0 \n",
      " minibatch acc: 84.375% \n",
      "\n",
      "Step 1000: \n",
      " loss: 12.9569425583 0.0 \n",
      " minibatch acc: 88.28125% \n",
      "\n",
      "Step 1500: \n",
      " loss: 8.36913394928 0.0 \n",
      " minibatch acc: 90.625% \n",
      "\n",
      "Step 2000: \n",
      " loss: 4.6814494133 0.0 \n",
      " minibatch acc: 93.75% \n",
      "\n",
      "Step 2500: \n",
      " loss: 5.08182048798 0.0 \n",
      " minibatch acc: 91.40625% \n",
      "\n",
      "Step 3000: \n",
      " loss: 3.62401270866 0.0 \n",
      " minibatch acc: 94.53125% \n",
      "\n",
      "0.0291796 0.220351 1.25859\n"
     ]
    }
   ],
   "source": [
    "train(batches1)"
   ]
  },
  {
   "cell_type": "code",
   "execution_count": 185,
   "metadata": {
    "collapsed": false
   },
   "outputs": [
    {
     "name": "stdout",
     "output_type": "stream",
     "text": [
      "Step 0: \n",
      " loss: 24.2982692719 806693056.0 \n",
      " minibatch acc: 75.0% \n",
      "\n",
      "Step 500: \n",
      " loss: 7.05187368393 10800114.0 \n",
      " minibatch acc: 87.5% \n",
      "\n",
      "Step 1000: \n",
      " loss: 12.6474256516 1529886.625 \n",
      " minibatch acc: 89.84375% \n",
      "\n",
      "Step 1500: \n",
      " loss: 7.90489959717 7184124.5 \n",
      " minibatch acc: 90.625% \n",
      "\n",
      "Step 2000: \n",
      " loss: 7.18614006042 257036.71875 \n",
      " minibatch acc: 91.40625% \n",
      "\n",
      "Step 2500: \n",
      " loss: 11.0485210419 932996.0 \n",
      " minibatch acc: 90.625% \n",
      "\n",
      "Step 3000: \n",
      " loss: 6.07928371429 127824.015625 \n",
      " minibatch acc: 89.0625% \n",
      "\n",
      "0.0380967 0.690415 2.28973\n"
     ]
    }
   ],
   "source": [
    "train(batches2, EWC=True)"
   ]
  },
  {
   "cell_type": "code",
   "execution_count": 187,
   "metadata": {
    "collapsed": false
   },
   "outputs": [
    {
     "name": "stdout",
     "output_type": "stream",
     "text": [
      "Step 0: \n",
      " loss: 31.6189975739 177575568.0 \n",
      " minibatch acc: 77.34375% \n",
      "\n",
      "Step 500: \n",
      " loss: 8.55688285828 110260.90625 \n",
      " minibatch acc: 92.96875% \n",
      "\n",
      "Step 1000: \n",
      " loss: 10.3166675568 106836.039062 \n",
      " minibatch acc: 87.5% \n",
      "\n",
      "Step 1500: \n",
      " loss: 10.7199802399 14834.3837891 \n",
      " minibatch acc: 89.84375% \n",
      "\n",
      "Step 2000: \n",
      " loss: 8.09171772003 4627.03173828 \n",
      " minibatch acc: 92.1875% \n",
      "\n",
      "Step 2500: \n",
      " loss: 5.78097248077 2734541.0 \n",
      " minibatch acc: 93.75% \n",
      "\n",
      "Step 3000: \n",
      " loss: 3.53288030624 38058756.0 \n",
      " minibatch acc: 93.75% \n",
      "\n",
      "0.0298605 0.700955 3.57035\n"
     ]
    }
   ],
   "source": [
    "train(batches3, EWC=True)"
   ]
  },
  {
   "cell_type": "code",
   "execution_count": 188,
   "metadata": {
    "collapsed": false
   },
   "outputs": [
    {
     "data": {
      "image/png": "[encoded data removed]",
      "text/plain": [
       "<matplotlib.figure.Figure at 0x7fa1623ef4d0>"
      ]
     },
     "metadata": {},
     "output_type": "display_data"
    }
   ],
   "source": [
    "%matplotlib inline\n",
    "import matplotlib.pyplot as plt\n",
    "l = len(acc_track[0])\n",
    "plt.plot(range(l), acc_track[0])\n",
    "plt.plot(range(l), acc_track[1])\n",
    "plt.plot(range(l), acc_track[2])\n",
    "plt.show()"
   ]
  },
  {
   "cell_type": "code",
   "execution_count": null,
   "metadata": {
    "collapsed": true,
    "deletable": true,
    "editable": true
   },
   "outputs": [],
   "source": []
  }
 ],
 "metadata": {
  "kernelspec": {
   "display_name": "Python 2",
   "language": "python",
   "name": "python2"
  },
  "language_info": {
   "codemirror_mode": {
    "name": "ipython",
    "version": 2
   },
   "file_extension": ".py",
   "mimetype": "text/x-python",
   "name": "python",
   "nbconvert_exporter": "python",
   "pygments_lexer": "ipython2",
   "version": "2.7.12"
  }
 },
 "nbformat": 4,
 "nbformat_minor": 2
}
