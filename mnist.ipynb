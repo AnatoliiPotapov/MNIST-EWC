{
 "cells": [
  {
   "cell_type": "code",
   "execution_count": 151,
   "metadata": {
    "collapsed": true
   },
   "outputs": [],
   "source": [
    "from __future__ import print_function"
   ]
  },
  {
   "cell_type": "code",
   "execution_count": 152,
   "metadata": {
    "collapsed": true
   },
   "outputs": [],
   "source": [
    "import numpy as np\n",
    "import tensorflow as tf"
   ]
  },
  {
   "cell_type": "code",
   "execution_count": 153,
   "metadata": {
    "collapsed": false
   },
   "outputs": [
    {
     "name": "stdout",
     "output_type": "stream",
     "text": [
      "Found and verified data/mnist.pkl.gz\n"
     ]
    }
   ],
   "source": [
    "import os \n",
    "import sys\n",
    "import gzip\n",
    "import pickle\n",
    "from urllib import urlretrieve\n",
    "\n",
    "def maybe_download(filename, expected_bytes, force=False):\n",
    "    \"\"\"Download a file if not present, and make sure it's the right size.\"\"\"\n",
    "    dest_filename = os.path.join(data_root, filename)\n",
    "    if force or not os.path.exists(dest_filename):\n",
    "        print('Attempting to download:', filename) \n",
    "        filename, _ = urlretrieve(url + filename, dest_filename)\n",
    "        print('\\nDownload Complete!')\n",
    "    \n",
    "    statinfo = os.stat(dest_filename)\n",
    "    if statinfo.st_size == expected_bytes:\n",
    "        print('Found and verified', dest_filename)\n",
    "    else:\n",
    "        raise Exception(\n",
    "            'Failed to verify ' + dest_filename + '. Can you get to it with a browser?')\n",
    "    return dest_filename\n",
    "\n",
    "data_root = 'data/'\n",
    "url = 'http://deeplearning.net/data/mnist/'\n",
    "train_filename = maybe_download('mnist.pkl.gz', 16168813)"
   ]
  },
  {
   "cell_type": "code",
   "execution_count": 154,
   "metadata": {
    "collapsed": false
   },
   "outputs": [],
   "source": [
    "with gzip.open('data/mnist.pkl.gz', 'rb') as f:\n",
    "    (X_train, y_train), (X_val, y_val), (X_test, y_test) =  pickle.load(f)"
   ]
  },
  {
   "cell_type": "code",
   "execution_count": 155,
   "metadata": {
    "collapsed": false
   },
   "outputs": [
    {
     "data": {
      "image/png": "[encoded data removed]",
      "text/plain": [
       "<matplotlib.figure.Figure at 0x7f1d27ed8110>"
      ]
     },
     "metadata": {},
     "output_type": "display_data"
    }
   ],
   "source": [
    "import matplotlib.pyplot as plt\n",
    "# plot 4 images as gray scale\n",
    "plt.subplot(221)\n",
    "plt.imshow(X_train[0].reshape(28,28), cmap=plt.get_cmap('gray'))\n",
    "plt.subplot(222)\n",
    "plt.imshow(X_train[1].reshape(28,28), cmap=plt.get_cmap('gray'))\n",
    "plt.subplot(223)\n",
    "plt.imshow(X_train[2].reshape(28,28), cmap=plt.get_cmap('gray'))\n",
    "plt.subplot(224)\n",
    "plt.imshow(X_train[3].reshape(28,28), cmap=plt.get_cmap('gray'))\n",
    "# show the plot\n",
    "plt.show()"
   ]
  },
  {
   "cell_type": "markdown",
   "metadata": {},
   "source": [
    "# Задача"
   ]
  },
  {
   "cell_type": "markdown",
   "metadata": {},
   "source": [
    "Разобьем датасет на три части, в одной только 1,2,3 в других соответственно 4,5,6 и 7,8,9. Задача продемонстрировать, что при последвотальном обучении сеть \"разучивается\" выполнять предыдущие задачи, а с EWC - существенно меньше."
   ]
  },
  {
   "cell_type": "code",
   "execution_count": 156,
   "metadata": {
    "collapsed": false
   },
   "outputs": [],
   "source": [
    "rows = np.concatenate((\n",
    "    np.where(y_train == 1),\n",
    "    np.where(y_train == 2),\n",
    "    np.where(y_train == 3)), axis = 1)\n",
    "\n",
    "T1_X = X_train[rows,:].reshape((len(rows[0]),X_train.shape[1]))\n",
    "T1_y = y_train[rows].reshape(len(rows[0]))"
   ]
  },
  {
   "cell_type": "code",
   "execution_count": 157,
   "metadata": {
    "collapsed": false
   },
   "outputs": [],
   "source": [
    "rows = np.concatenate((\n",
    "    np.where(y_train == 4),\n",
    "    np.where(y_train == 5),\n",
    "    np.where(y_train == 6)), axis = 1)\n",
    "\n",
    "T2_X = X_train[rows,:].reshape((len(rows[0]),X_train.shape[1]))\n",
    "T2_y = y_train[rows].reshape(len(rows[0]))"
   ]
  },
  {
   "cell_type": "code",
   "execution_count": 158,
   "metadata": {
    "collapsed": false
   },
   "outputs": [],
   "source": [
    "rows = np.concatenate((\n",
    "    np.where(y_train == 7),\n",
    "    np.where(y_train == 8),\n",
    "    np.where(y_train == 9)), axis = 1)\n",
    "\n",
    "T3_X = X_train[rows,:].reshape((len(rows[0]),X_train.shape[1]))\n",
    "T3_y = y_train[rows].reshape(len(rows[0]))"
   ]
  },
  {
   "cell_type": "markdown",
   "metadata": {},
   "source": [
    "### Y - to one hot"
   ]
  },
  {
   "cell_type": "code",
   "execution_count": 159,
   "metadata": {
    "collapsed": false
   },
   "outputs": [
    {
     "name": "stdout",
     "output_type": "stream",
     "text": [
      "Training set (15747, 784) (15747, 10)\n",
      "Validation set (14316, 784) (14316, 10)\n",
      "Test set (15005, 784) (15005, 10)\n"
     ]
    }
   ],
   "source": [
    "image_size = 28\n",
    "num_labels = 10\n",
    "\n",
    "def reformat(dataset, labels):\n",
    "    labels = (np.arange(num_labels) == labels[:,None]).astype(np.float32)\n",
    "    return dataset, labels\n",
    "\n",
    "T1_X, T1_y = reformat(T1_X, T1_y)\n",
    "T2_X, T2_y = reformat(T2_X, T2_y)\n",
    "T3_X, T3_y = reformat(T3_X, T3_y)\n",
    "\n",
    "print('Training set', T1_X.shape, T1_y.shape)\n",
    "print('Validation set', T2_X.shape, T2_y.shape)\n",
    "print('Test set', T3_X.shape, T3_y.shape)"
   ]
  },
  {
   "cell_type": "code",
   "execution_count": 160,
   "metadata": {
    "collapsed": false
   },
   "outputs": [
    {
     "name": "stdout",
     "output_type": "stream",
     "text": [
      "(10000, 784) (10000, 10)\n"
     ]
    }
   ],
   "source": [
    "X_val, y_val  = reformat(X_val, y_val.reshape(10000,))\n",
    "print(X_val.shape, y_val.shape)"
   ]
  },
  {
   "cell_type": "markdown",
   "metadata": {},
   "source": [
    "# Tensorflow MLP"
   ]
  },
  {
   "cell_type": "code",
   "execution_count": 161,
   "metadata": {
    "collapsed": true
   },
   "outputs": [],
   "source": [
    "hidden_nodes = 1024\n",
    "batch_size = 128"
   ]
  },
  {
   "cell_type": "code",
   "execution_count": 162,
   "metadata": {
    "collapsed": false
   },
   "outputs": [],
   "source": [
    "nn_with_hidden_layer = tf.Graph()\n",
    "\n",
    "with nn_with_hidden_layer.as_default():\n",
    "    \n",
    "    # Input data\n",
    "    tf_train_dataset = tf.placeholder(tf.float32, shape=(batch_size, image_size * image_size))\n",
    "    tf_train_labels = tf.placeholder(tf.float32, shape=(batch_size, num_labels))\n",
    "    tf_valid_dataset = tf.constant(X_val)\n",
    "    tf_test_dataset = tf.constant(X_test)\n",
    "    l2 = tf.placeholder(tf.float32)\n",
    "    p_dropout = tf.placeholder(tf.float32)\n",
    "    \n",
    "    # Variables\n",
    "    \n",
    "    # 1st layer\n",
    "    w1 = tf.Variable(\n",
    "        tf.truncated_normal([image_size * image_size, hidden_nodes]))\n",
    "    b1 = tf.Variable(tf.zeros([hidden_nodes]))\n",
    "    \n",
    "    # hidden layer\n",
    "    w2 = tf.Variable(\n",
    "        tf.truncated_normal([hidden_nodes, num_labels]))\n",
    "    b2 = tf.Variable(tf.zeros([num_labels]))\n",
    "    \n",
    "    def model(X):\n",
    "        # Add layer name scopes for better graph visualization\n",
    "        with tf.name_scope(\"input_layer\"):\n",
    "            h = tf.nn.relu(tf.matmul(X, w1) + b1)\n",
    "        with tf.name_scope(\"hidden_layer\"):\n",
    "            h = tf.nn.dropout(h, p_dropout)\n",
    "            h2 = tf.matmul(h, w2) + b2\n",
    "            return(h2)\n",
    "    \n",
    "    logits = model(tf_train_dataset)\n",
    "    \n",
    "    # Training computation\n",
    "    loss = tf.reduce_mean(\n",
    "        tf.nn.softmax_cross_entropy_with_logits(labels=tf_train_labels, logits=logits)\n",
    "    ) + l2 * tf.nn.l2_loss(w1) + l2 * tf.nn.l2_loss(w2)\n",
    "    \n",
    "    # Optimizer.\n",
    "    optimizer = tf.train.GradientDescentOptimizer(0.5).minimize(loss)\n",
    "    \n",
    "    # Predictions for the training, validation, and test data.\n",
    "    train_prediction = tf.nn.softmax(logits)\n",
    "    valid_prediction = tf.nn.softmax(model(tf_valid_dataset))\n",
    "    test_prediction = tf.nn.softmax(model(tf_test_dataset))"
   ]
  },
  {
   "cell_type": "markdown",
   "metadata": {},
   "source": [
    "# Генератор батчей"
   ]
  },
  {
   "cell_type": "code",
   "execution_count": 163,
   "metadata": {
    "collapsed": false
   },
   "outputs": [
    {
     "name": "stdout",
     "output_type": "stream",
     "text": [
      "(128, 784) (128, 10)\n"
     ]
    }
   ],
   "source": [
    "batch_size = 128\n",
    "\n",
    "def batch_generator(X, y, batch_size):\n",
    "    l = X.shape[0]\n",
    "    \n",
    "    def another():\n",
    "        indexes = np.random.randint(low=0, high=l, size=batch_size)\n",
    "        return [\n",
    "            X.take(indexes, axis=0),\n",
    "            y[indexes]\n",
    "        ]\n",
    "            \n",
    "    while True:\n",
    "        yield another()\n",
    "        \n",
    "    \n",
    "batches = batch_generator(T1_X, T1_y, batch_size=batch_size)\n",
    "x, y = batches.next()\n",
    "print(x.shape, y.shape)"
   ]
  },
  {
   "cell_type": "code",
   "execution_count": 164,
   "metadata": {
    "collapsed": false
   },
   "outputs": [
    {
     "data": {
      "text/plain": [
       "((15747, 784), (15747, 10))"
      ]
     },
     "execution_count": 164,
     "metadata": {},
     "output_type": "execute_result"
    }
   ],
   "source": [
    "T1_X.shape, T1_y.shape"
   ]
  },
  {
   "cell_type": "markdown",
   "metadata": {},
   "source": [
    "# Обучение сети"
   ]
  },
  {
   "cell_type": "code",
   "execution_count": 165,
   "metadata": {
    "collapsed": true
   },
   "outputs": [],
   "source": [
    "tf.reset_default_graph()\n",
    "sess = tf.InteractiveSession(graph=nn_with_hidden_layer)"
   ]
  },
  {
   "cell_type": "code",
   "execution_count": 166,
   "metadata": {
    "collapsed": true
   },
   "outputs": [],
   "source": [
    "def accuracy(predictions, labels):\n",
    "    return (100.0 * np.sum(np.argmax(predictions, 1) == np.argmax(labels, 1))\n",
    "                    / predictions.shape[0])"
   ]
  },
  {
   "cell_type": "code",
   "execution_count": 167,
   "metadata": {
    "collapsed": true
   },
   "outputs": [],
   "source": [
    "def restore(sess):\n",
    "    ckpt = tf.train.get_checkpoint_state(os.path.dirname('checkpoint_directory/{}'.format(model_name)))\n",
    "    if ckpt and ckpt.model_checkpoint_path:\n",
    "        saver.restore(sess, ckpt.model_checkpoint_path)"
   ]
  },
  {
   "cell_type": "code",
   "execution_count": 168,
   "metadata": {
    "collapsed": true
   },
   "outputs": [],
   "source": [
    "max_steps = 3001\n",
    "period_stat = 500\n",
    "\n",
    "def train(batches, EWC = False, resume = False):\n",
    "    \n",
    "    if resume == True:\n",
    "        restore(sess)\n",
    "    else:\n",
    "        sess.run(tf.global_variables_initializer())\n",
    "    \n",
    "    try:\n",
    "        for step in range(max_steps):\n",
    "            \n",
    "            X, y = batches.next()\n",
    "            d = {tf_train_dataset : X, tf_train_labels : y, l2: 0.0001, p_dropout: 1.0}\n",
    "            _ = sess.run(optimizer, feed_dict=d)\n",
    "            \n",
    "            if step % period_stat == 0:\n",
    "                \n",
    "                l, train_pred, valid_pred = sess.run([loss, train_prediction, valid_prediction], feed_dict=d)\n",
    "                print(\n",
    "                    \"Step {0}: \\n loss: {1} \\n minibatch acc: {2}% \\n validation acc: {3}% \\n\".format(\n",
    "                        step,\n",
    "                        l,\n",
    "                        accuracy(train_pred, y),\n",
    "                        accuracy(valid_pred, y_val)\n",
    "                    )\n",
    "                )\n",
    "            \n",
    "            \n",
    "            \n",
    "    except KeyboardInterrupt:\n",
    "        print('training interrupted')\n",
    "        \n",
    "\n",
    "    \n"
   ]
  },
  {
   "cell_type": "code",
   "execution_count": 169,
   "metadata": {
    "collapsed": false
   },
   "outputs": [
    {
     "name": "stdout",
     "output_type": "stream",
     "text": [
      "Step 0: \n",
      " loss: 1292.60058594 \n",
      " minibatch acc: 62.5% \n",
      " validation acc: 18.21% \n",
      "\n",
      "Step 500: \n",
      " loss: 30.0161094666 \n",
      " minibatch acc: 100.0% \n",
      " validation acc: 30.51% \n",
      "\n",
      "training interrupted\n"
     ]
    }
   ],
   "source": [
    "train(batches)"
   ]
  }
 ],
 "metadata": {
  "kernelspec": {
   "display_name": "mipt-trends2.7",
   "language": "python",
   "name": "mipt-trends2.7"
  },
  "language_info": {
   "codemirror_mode": {
    "name": "ipython",
    "version": 2
   },
   "file_extension": ".py",
   "mimetype": "text/x-python",
   "name": "python",
   "nbconvert_exporter": "python",
   "pygments_lexer": "ipython2",
   "version": "2.7.12"
  }
 },
 "nbformat": 4,
 "nbformat_minor": 2
}
