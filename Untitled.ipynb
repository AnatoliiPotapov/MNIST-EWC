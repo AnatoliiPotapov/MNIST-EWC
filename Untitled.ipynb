{
 "cells": [
  {
   "cell_type": "code",
   "execution_count": 2,
   "metadata": {
    "collapsed": true
   },
   "outputs": [],
   "source": [
    "import numpy as np\n",
    "import tensorflow as tf\n",
    "import math"
   ]
  },
  {
   "cell_type": "code",
   "execution_count": 3,
   "metadata": {
    "collapsed": false
   },
   "outputs": [
    {
     "data": {
      "text/plain": [
       "[[array([-0.59677505, -0.72611177], dtype=float32)]]"
      ]
     },
     "execution_count": 3,
     "metadata": {},
     "output_type": "execute_result"
    }
   ],
   "source": [
    "tf.set_random_seed(0)\n",
    "\n",
    "### Setup toy data and weights\n",
    "images_placeholder = tf.placeholder(tf.float32, shape=(3, 2))\n",
    "labels_placeholder = tf.placeholder(tf.int32, shape=(3))\n",
    "feed_dict = {\n",
    "    images_placeholder: np.array([[0, 0], [0, 1], [1, 0]]),\n",
    "    labels_placeholder: np.array([0, 1, 1]),\n",
    "}\n",
    "  \n",
    "weights = tf.Variable(\n",
    "  tf.truncated_normal([2],\n",
    "                      stddev=1.0 / math.sqrt(float(2))),\n",
    "  name='weights')\n",
    "\n",
    "### Calculate loss using manually constructed TF function\n",
    "logits = tf.transpose(tf.matmul(images_placeholder, tf.reshape(weights, [2, 1])))\n",
    "labels = (tf.to_float(labels_placeholder) * 2) - 1\n",
    "#logits_mul_labels = tf.multiply(tf.reshape(logits2, [-1]), tf.reshape(labels2, [-1]))\n",
    "#cross_entropy2 = - tf.log(tf.sigmoid(logits_mul_labels))\n",
    "#loss = tf.reduce_mean(cross_entropy2)\n",
    "\n",
    "loss = tf.reduce_mean(\n",
    "        tf.nn.softmax_cross_entropy_with_logits(labels=labels, logits=logits)\n",
    ")\n",
    "\n",
    "### Create train_op\n",
    "optimizer = tf.train.GradientDescentOptimizer(learning_rate=0.01)\n",
    "global_step = tf.Variable(0, name='global_step', trainable=False)\n",
    "train_op = optimizer.minimize(loss, global_step=global_step)\n",
    "\n",
    "### Calculate gradients, Hessians, and Hessian-vector products for both versions of loss\n",
    "grad = tf.gradients(loss, [weights])\n",
    "\n",
    "### Run training for a single step to get the parameters to change.\n",
    "init = tf.global_variables_initializer()\n",
    "sess = tf.Session()\n",
    "\n",
    "sess.run(init)\n",
    "sess.run([loss], feed_dict)\n",
    "sess.run([grad], feed_dict)"
   ]
  },
  {
   "cell_type": "code",
   "execution_count": null,
   "metadata": {
    "collapsed": true
   },
   "outputs": [],
   "source": []
  }
 ],
 "metadata": {
  "kernelspec": {
   "display_name": "Python 2",
   "language": "python",
   "name": "python2"
  },
  "language_info": {
   "codemirror_mode": {
    "name": "ipython",
    "version": 2
   },
   "file_extension": ".py",
   "mimetype": "text/x-python",
   "name": "python",
   "nbconvert_exporter": "python",
   "pygments_lexer": "ipython2",
   "version": "2.7.12"
  }
 },
 "nbformat": 4,
 "nbformat_minor": 2
}
